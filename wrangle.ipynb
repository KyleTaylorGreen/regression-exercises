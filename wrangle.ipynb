{
 "cells": [
  {
   "cell_type": "code",
   "execution_count": 1,
   "id": "051f0aae",
   "metadata": {},
   "outputs": [],
   "source": [
    "import pandas as pd\n",
    "from env import get_db_url\n",
    "\n",
    "import matplotlib.pyplot as plt\n",
    "\n",
    "import acquire\n",
    "import wrangle as wr\n",
    "import exploration as exp"
   ]
  },
  {
   "cell_type": "markdown",
   "id": "e62a70bc",
   "metadata": {},
   "source": [
    "## Acquiring Zillow Data"
   ]
  },
  {
   "cell_type": "code",
   "execution_count": 2,
   "id": "d8c5f400",
   "metadata": {
    "scrolled": true
   },
   "outputs": [
    {
     "data": {
      "text/html": [
       "<div>\n",
       "<style scoped>\n",
       "    .dataframe tbody tr th:only-of-type {\n",
       "        vertical-align: middle;\n",
       "    }\n",
       "\n",
       "    .dataframe tbody tr th {\n",
       "        vertical-align: top;\n",
       "    }\n",
       "\n",
       "    .dataframe thead th {\n",
       "        text-align: right;\n",
       "    }\n",
       "</style>\n",
       "<table border=\"1\" class=\"dataframe\">\n",
       "  <thead>\n",
       "    <tr style=\"text-align: right;\">\n",
       "      <th></th>\n",
       "      <th>Unnamed: 0</th>\n",
       "      <th>parcelid</th>\n",
       "      <th>bedroomcnt</th>\n",
       "      <th>bathroomcnt</th>\n",
       "      <th>calculatedfinishedsquarefeet</th>\n",
       "      <th>taxvaluedollarcnt</th>\n",
       "      <th>yearbuilt</th>\n",
       "      <th>taxamount</th>\n",
       "      <th>fips</th>\n",
       "    </tr>\n",
       "  </thead>\n",
       "  <tbody>\n",
       "    <tr>\n",
       "      <th>0</th>\n",
       "      <td>0</td>\n",
       "      <td>10759547</td>\n",
       "      <td>0.0</td>\n",
       "      <td>0.0</td>\n",
       "      <td>NaN</td>\n",
       "      <td>27516.0</td>\n",
       "      <td>NaN</td>\n",
       "      <td>NaN</td>\n",
       "      <td>6037.0</td>\n",
       "    </tr>\n",
       "    <tr>\n",
       "      <th>1</th>\n",
       "      <td>1</td>\n",
       "      <td>11193347</td>\n",
       "      <td>0.0</td>\n",
       "      <td>0.0</td>\n",
       "      <td>NaN</td>\n",
       "      <td>10.0</td>\n",
       "      <td>NaN</td>\n",
       "      <td>NaN</td>\n",
       "      <td>6037.0</td>\n",
       "    </tr>\n",
       "    <tr>\n",
       "      <th>2</th>\n",
       "      <td>2</td>\n",
       "      <td>11215747</td>\n",
       "      <td>0.0</td>\n",
       "      <td>0.0</td>\n",
       "      <td>NaN</td>\n",
       "      <td>10.0</td>\n",
       "      <td>NaN</td>\n",
       "      <td>NaN</td>\n",
       "      <td>6037.0</td>\n",
       "    </tr>\n",
       "    <tr>\n",
       "      <th>3</th>\n",
       "      <td>3</td>\n",
       "      <td>11229347</td>\n",
       "      <td>0.0</td>\n",
       "      <td>0.0</td>\n",
       "      <td>NaN</td>\n",
       "      <td>2108.0</td>\n",
       "      <td>NaN</td>\n",
       "      <td>174.21</td>\n",
       "      <td>6037.0</td>\n",
       "    </tr>\n",
       "    <tr>\n",
       "      <th>4</th>\n",
       "      <td>4</td>\n",
       "      <td>11324547</td>\n",
       "      <td>4.0</td>\n",
       "      <td>2.0</td>\n",
       "      <td>3633.0</td>\n",
       "      <td>296425.0</td>\n",
       "      <td>2005.0</td>\n",
       "      <td>6941.39</td>\n",
       "      <td>6037.0</td>\n",
       "    </tr>\n",
       "  </tbody>\n",
       "</table>\n",
       "</div>"
      ],
      "text/plain": [
       "   Unnamed: 0  parcelid  bedroomcnt  bathroomcnt  \\\n",
       "0           0  10759547         0.0          0.0   \n",
       "1           1  11193347         0.0          0.0   \n",
       "2           2  11215747         0.0          0.0   \n",
       "3           3  11229347         0.0          0.0   \n",
       "4           4  11324547         4.0          2.0   \n",
       "\n",
       "   calculatedfinishedsquarefeet  taxvaluedollarcnt  yearbuilt  taxamount  \\\n",
       "0                           NaN            27516.0        NaN        NaN   \n",
       "1                           NaN               10.0        NaN        NaN   \n",
       "2                           NaN               10.0        NaN        NaN   \n",
       "3                           NaN             2108.0        NaN     174.21   \n",
       "4                        3633.0           296425.0     2005.0    6941.39   \n",
       "\n",
       "     fips  \n",
       "0  6037.0  \n",
       "1  6037.0  \n",
       "2  6037.0  \n",
       "3  6037.0  \n",
       "4  6037.0  "
      ]
     },
     "execution_count": 2,
     "metadata": {},
     "output_type": "execute_result"
    }
   ],
   "source": [
    "zillow = acquire.get_zillow_data()\n",
    "zillow.head()"
   ]
  },
  {
   "cell_type": "markdown",
   "id": "b8f3e73d",
   "metadata": {},
   "source": [
    "## Checking/Correcting Null Values"
   ]
  },
  {
   "cell_type": "code",
   "execution_count": 3,
   "id": "583ef013",
   "metadata": {},
   "outputs": [
    {
     "data": {
      "text/plain": [
       "Unnamed: 0                         0\n",
       "parcelid                           0\n",
       "bedroomcnt                        11\n",
       "bathroomcnt                       11\n",
       "calculatedfinishedsquarefeet    8484\n",
       "taxvaluedollarcnt                493\n",
       "yearbuilt                       9337\n",
       "taxamount                       4442\n",
       "fips                               0\n",
       "dtype: int64"
      ]
     },
     "execution_count": 3,
     "metadata": {},
     "output_type": "execute_result"
    }
   ],
   "source": [
    "# checking total nulls in each column\n",
    "zillow.isna().sum()"
   ]
  },
  {
   "cell_type": "code",
   "execution_count": 4,
   "id": "e183c4cc",
   "metadata": {},
   "outputs": [
    {
     "data": {
      "text/plain": [
       "(2152863, 9)"
      ]
     },
     "execution_count": 4,
     "metadata": {},
     "output_type": "execute_result"
    }
   ],
   "source": [
    "# checking number of rows\n",
    "zillow.shape"
   ]
  },
  {
   "cell_type": "code",
   "execution_count": 5,
   "id": "b6ec3949",
   "metadata": {
    "scrolled": true
   },
   "outputs": [
    {
     "data": {
      "text/plain": [
       "Unnamed: 0                      0.000000\n",
       "parcelid                        0.000000\n",
       "bedroomcnt                      0.000005\n",
       "bathroomcnt                     0.000005\n",
       "calculatedfinishedsquarefeet    0.003941\n",
       "taxvaluedollarcnt               0.000229\n",
       "yearbuilt                       0.004337\n",
       "taxamount                       0.002063\n",
       "fips                            0.000000\n",
       "dtype: float64"
      ]
     },
     "execution_count": 5,
     "metadata": {},
     "output_type": "execute_result"
    }
   ],
   "source": [
    "# creating proportions to see percentage of nulls in each column\n",
    "zillow.isna().sum() / zillow.shape[0]"
   ]
  },
  {
   "cell_type": "markdown",
   "id": "e3f00f1a",
   "metadata": {},
   "source": [
    "### Conclusion: \n",
    "> Nulls make up very small percent of data set, I feel comfortable dropping them."
   ]
  },
  {
   "cell_type": "code",
   "execution_count": 6,
   "id": "a471e256",
   "metadata": {},
   "outputs": [
    {
     "data": {
      "text/plain": [
       "0.9941343225277224"
      ]
     },
     "execution_count": 6,
     "metadata": {},
     "output_type": "execute_result"
    }
   ],
   "source": [
    "# Drop null values and then compare new df shape \n",
    "zillow = zillow.dropna()\n",
    "zillow = zillow.drop(columns='Unnamed: 0')\n",
    "\n",
    "# readability\n",
    "zillow = zillow.rename(columns={'calculatedfinishedsquarefeet': 'sqr_ft'})\n",
    "\n",
    "zillow.shape[0] / acquire.get_zillow_data().shape[0]"
   ]
  },
  {
   "cell_type": "markdown",
   "id": "54ea785f",
   "metadata": {},
   "source": [
    "### We still retrain 99.41% of our data with over 2 million rows."
   ]
  },
  {
   "cell_type": "markdown",
   "id": "358bee2c",
   "metadata": {},
   "source": [
    "## Checking Data Type Consistency"
   ]
  },
  {
   "cell_type": "code",
   "execution_count": 7,
   "id": "94ee7e92",
   "metadata": {
    "scrolled": false
   },
   "outputs": [
    {
     "name": "stdout",
     "output_type": "stream",
     "text": [
      "<class 'pandas.core.frame.DataFrame'>\n",
      "Int64Index: 2140235 entries, 4 to 2152862\n",
      "Data columns (total 8 columns):\n",
      " #   Column             Dtype  \n",
      "---  ------             -----  \n",
      " 0   parcelid           int64  \n",
      " 1   bedroomcnt         float64\n",
      " 2   bathroomcnt        float64\n",
      " 3   sqr_ft             float64\n",
      " 4   taxvaluedollarcnt  float64\n",
      " 5   yearbuilt          float64\n",
      " 6   taxamount          float64\n",
      " 7   fips               float64\n",
      "dtypes: float64(7), int64(1)\n",
      "memory usage: 147.0 MB\n"
     ]
    }
   ],
   "source": [
    "zillow.info()"
   ]
  },
  {
   "cell_type": "markdown",
   "id": "5d244d73",
   "metadata": {},
   "source": [
    "### Conclusion:\n",
    "> All numeric types are already numeric, although fips and yearbuilt would be better as int64.\n",
    "Will change yearbuilt to int and fips to int, although fips may be dropped eventually."
   ]
  },
  {
   "cell_type": "code",
   "execution_count": 8,
   "id": "a126c0a5",
   "metadata": {},
   "outputs": [
    {
     "name": "stdout",
     "output_type": "stream",
     "text": [
      "<class 'pandas.core.frame.DataFrame'>\n",
      "Int64Index: 2140235 entries, 4 to 2152862\n",
      "Data columns (total 8 columns):\n",
      " #   Column             Dtype  \n",
      "---  ------             -----  \n",
      " 0   parcelid           int64  \n",
      " 1   bedroomcnt         float64\n",
      " 2   bathroomcnt        float64\n",
      " 3   sqr_ft             float64\n",
      " 4   taxvaluedollarcnt  float64\n",
      " 5   yearbuilt          int64  \n",
      " 6   taxamount          float64\n",
      " 7   fips               int64  \n",
      "dtypes: float64(5), int64(3)\n",
      "memory usage: 147.0 MB\n"
     ]
    }
   ],
   "source": [
    "cols = ['yearbuilt', 'fips']\n",
    "zillow[cols] = zillow[cols].astype('int64')\n",
    "zillow.info()"
   ]
  },
  {
   "cell_type": "markdown",
   "id": "1018a2d7",
   "metadata": {},
   "source": [
    "## Analyzing Weird Values in Dataset"
   ]
  },
  {
   "cell_type": "code",
   "execution_count": 9,
   "id": "91491891",
   "metadata": {
    "scrolled": true
   },
   "outputs": [
    {
     "data": {
      "text/html": [
       "<div>\n",
       "<style scoped>\n",
       "    .dataframe tbody tr th:only-of-type {\n",
       "        vertical-align: middle;\n",
       "    }\n",
       "\n",
       "    .dataframe tbody tr th {\n",
       "        vertical-align: top;\n",
       "    }\n",
       "\n",
       "    .dataframe thead th {\n",
       "        text-align: right;\n",
       "    }\n",
       "</style>\n",
       "<table border=\"1\" class=\"dataframe\">\n",
       "  <thead>\n",
       "    <tr style=\"text-align: right;\">\n",
       "      <th></th>\n",
       "      <th>count</th>\n",
       "      <th>mean</th>\n",
       "      <th>std</th>\n",
       "      <th>min</th>\n",
       "      <th>25%</th>\n",
       "      <th>50%</th>\n",
       "      <th>75%</th>\n",
       "      <th>max</th>\n",
       "    </tr>\n",
       "  </thead>\n",
       "  <tbody>\n",
       "    <tr>\n",
       "      <th>parcelid</th>\n",
       "      <td>2140235.0</td>\n",
       "      <td>1.304843e+07</td>\n",
       "      <td>4.568911e+06</td>\n",
       "      <td>10711725.00</td>\n",
       "      <td>11656531.50</td>\n",
       "      <td>12596047.00</td>\n",
       "      <td>14053101.50</td>\n",
       "      <td>1.681836e+08</td>\n",
       "    </tr>\n",
       "    <tr>\n",
       "      <th>bedroomcnt</th>\n",
       "      <td>2140235.0</td>\n",
       "      <td>3.301419e+00</td>\n",
       "      <td>9.325998e-01</td>\n",
       "      <td>0.00</td>\n",
       "      <td>3.00</td>\n",
       "      <td>3.00</td>\n",
       "      <td>4.00</td>\n",
       "      <td>2.500000e+01</td>\n",
       "    </tr>\n",
       "    <tr>\n",
       "      <th>bathroomcnt</th>\n",
       "      <td>2140235.0</td>\n",
       "      <td>2.240352e+00</td>\n",
       "      <td>9.905489e-01</td>\n",
       "      <td>0.00</td>\n",
       "      <td>2.00</td>\n",
       "      <td>2.00</td>\n",
       "      <td>3.00</td>\n",
       "      <td>3.200000e+01</td>\n",
       "    </tr>\n",
       "    <tr>\n",
       "      <th>sqr_ft</th>\n",
       "      <td>2140235.0</td>\n",
       "      <td>1.863194e+03</td>\n",
       "      <td>1.221754e+03</td>\n",
       "      <td>1.00</td>\n",
       "      <td>1258.00</td>\n",
       "      <td>1623.00</td>\n",
       "      <td>2208.00</td>\n",
       "      <td>9.525760e+05</td>\n",
       "    </tr>\n",
       "    <tr>\n",
       "      <th>taxvaluedollarcnt</th>\n",
       "      <td>2140235.0</td>\n",
       "      <td>4.606416e+05</td>\n",
       "      <td>6.771576e+05</td>\n",
       "      <td>22.00</td>\n",
       "      <td>189166.00</td>\n",
       "      <td>328296.00</td>\n",
       "      <td>534606.00</td>\n",
       "      <td>9.018846e+07</td>\n",
       "    </tr>\n",
       "    <tr>\n",
       "      <th>yearbuilt</th>\n",
       "      <td>2140235.0</td>\n",
       "      <td>1.960968e+03</td>\n",
       "      <td>2.215056e+01</td>\n",
       "      <td>1801.00</td>\n",
       "      <td>1949.00</td>\n",
       "      <td>1958.00</td>\n",
       "      <td>1976.00</td>\n",
       "      <td>2.016000e+03</td>\n",
       "    </tr>\n",
       "    <tr>\n",
       "      <th>taxamount</th>\n",
       "      <td>2140235.0</td>\n",
       "      <td>5.616711e+03</td>\n",
       "      <td>7.814563e+03</td>\n",
       "      <td>6.34</td>\n",
       "      <td>2540.85</td>\n",
       "      <td>4111.47</td>\n",
       "      <td>6411.93</td>\n",
       "      <td>1.078102e+06</td>\n",
       "    </tr>\n",
       "    <tr>\n",
       "      <th>fips</th>\n",
       "      <td>2140235.0</td>\n",
       "      <td>6.048310e+03</td>\n",
       "      <td>2.034491e+01</td>\n",
       "      <td>6037.00</td>\n",
       "      <td>6037.00</td>\n",
       "      <td>6037.00</td>\n",
       "      <td>6059.00</td>\n",
       "      <td>6.111000e+03</td>\n",
       "    </tr>\n",
       "  </tbody>\n",
       "</table>\n",
       "</div>"
      ],
      "text/plain": [
       "                       count          mean           std          min  \\\n",
       "parcelid           2140235.0  1.304843e+07  4.568911e+06  10711725.00   \n",
       "bedroomcnt         2140235.0  3.301419e+00  9.325998e-01         0.00   \n",
       "bathroomcnt        2140235.0  2.240352e+00  9.905489e-01         0.00   \n",
       "sqr_ft             2140235.0  1.863194e+03  1.221754e+03         1.00   \n",
       "taxvaluedollarcnt  2140235.0  4.606416e+05  6.771576e+05        22.00   \n",
       "yearbuilt          2140235.0  1.960968e+03  2.215056e+01      1801.00   \n",
       "taxamount          2140235.0  5.616711e+03  7.814563e+03         6.34   \n",
       "fips               2140235.0  6.048310e+03  2.034491e+01      6037.00   \n",
       "\n",
       "                           25%          50%          75%           max  \n",
       "parcelid           11656531.50  12596047.00  14053101.50  1.681836e+08  \n",
       "bedroomcnt                3.00         3.00         4.00  2.500000e+01  \n",
       "bathroomcnt               2.00         2.00         3.00  3.200000e+01  \n",
       "sqr_ft                 1258.00      1623.00      2208.00  9.525760e+05  \n",
       "taxvaluedollarcnt    189166.00    328296.00    534606.00  9.018846e+07  \n",
       "yearbuilt              1949.00      1958.00      1976.00  2.016000e+03  \n",
       "taxamount              2540.85      4111.47      6411.93  1.078102e+06  \n",
       "fips                   6037.00      6037.00      6059.00  6.111000e+03  "
      ]
     },
     "execution_count": 9,
     "metadata": {},
     "output_type": "execute_result"
    }
   ],
   "source": [
    "# overview description of values\n",
    "zillow.describe().T"
   ]
  },
  {
   "cell_type": "markdown",
   "id": "448dc97b",
   "metadata": {},
   "source": [
    "# Takeaways:\n",
    "> * calculatedfinishedsquarefeet should not have a value of 1.00\n",
    "> * bedroomcnt + bathroomcnt having 0 is weird but not necessarily impossible. Need further research to see how prevalent this is.\n"
   ]
  },
  {
   "cell_type": "markdown",
   "id": "2b37d30c",
   "metadata": {},
   "source": [
    "## Cleaning Strange Values"
   ]
  },
  {
   "cell_type": "markdown",
   "id": "f0bfc912",
   "metadata": {},
   "source": [
    "https://worldpopulationreview.com/state-rankings/minimum-house-size-by-state\n",
    "\n",
    "Using this resource, I'm going to limit the data to only include houses with square footage above 70 square feet."
   ]
  },
  {
   "cell_type": "code",
   "execution_count": 10,
   "id": "5216770f",
   "metadata": {},
   "outputs": [
    {
     "data": {
      "text/plain": [
       "0.9940888017491127"
      ]
     },
     "execution_count": 10,
     "metadata": {},
     "output_type": "execute_result"
    }
   ],
   "source": [
    "zillow = zillow[zillow.sqr_ft >= 70]\n",
    "zillow.shape[0] / acquire.get_zillow_data().shape[0]"
   ]
  },
  {
   "cell_type": "markdown",
   "id": "9d91d9ad",
   "metadata": {},
   "source": [
    "Using domain knowledge from Andrew's mom, I'm going to drop all bedroom/bathroom counts of 0."
   ]
  },
  {
   "cell_type": "code",
   "execution_count": 11,
   "id": "2c4c81be",
   "metadata": {},
   "outputs": [
    {
     "data": {
      "text/plain": [
       "0.9916511176047895"
      ]
     },
     "execution_count": 11,
     "metadata": {},
     "output_type": "execute_result"
    }
   ],
   "source": [
    "zillow = zillow[zillow.bedroomcnt != 0]\n",
    "zillow = zillow[zillow.bathroomcnt != 0.0]\n",
    "zillow.shape[0] / acquire.get_zillow_data().shape[0]"
   ]
  },
  {
   "cell_type": "markdown",
   "id": "452bd77a",
   "metadata": {},
   "source": [
    "## Takeaway: \n",
    "\n",
    "> Still retain 99.1% of data after dropping null values and cleaning zero values for bathroomcnt/bedroomcnt."
   ]
  },
  {
   "cell_type": "code",
   "execution_count": 12,
   "id": "3ed2612b",
   "metadata": {},
   "outputs": [
    {
     "name": "stdout",
     "output_type": "stream",
     "text": [
      "(2134889, 8)\n",
      "(2096851, 8)\n"
     ]
    },
    {
     "data": {
      "text/html": [
       "<div>\n",
       "<style scoped>\n",
       "    .dataframe tbody tr th:only-of-type {\n",
       "        vertical-align: middle;\n",
       "    }\n",
       "\n",
       "    .dataframe tbody tr th {\n",
       "        vertical-align: top;\n",
       "    }\n",
       "\n",
       "    .dataframe thead th {\n",
       "        text-align: right;\n",
       "    }\n",
       "</style>\n",
       "<table border=\"1\" class=\"dataframe\">\n",
       "  <thead>\n",
       "    <tr style=\"text-align: right;\">\n",
       "      <th></th>\n",
       "      <th>parcelid</th>\n",
       "      <th>bedroomcnt</th>\n",
       "      <th>bathroomcnt</th>\n",
       "      <th>sqr_ft</th>\n",
       "      <th>taxvaluedollarcnt</th>\n",
       "      <th>yearbuilt</th>\n",
       "      <th>taxamount</th>\n",
       "      <th>fips</th>\n",
       "    </tr>\n",
       "  </thead>\n",
       "  <tbody>\n",
       "    <tr>\n",
       "      <th>4</th>\n",
       "      <td>11324547</td>\n",
       "      <td>4.0</td>\n",
       "      <td>2.0</td>\n",
       "      <td>3633.0</td>\n",
       "      <td>296425.0</td>\n",
       "      <td>2005</td>\n",
       "      <td>6941.39</td>\n",
       "      <td>6037</td>\n",
       "    </tr>\n",
       "    <tr>\n",
       "      <th>6</th>\n",
       "      <td>11544747</td>\n",
       "      <td>3.0</td>\n",
       "      <td>4.0</td>\n",
       "      <td>1620.0</td>\n",
       "      <td>847770.0</td>\n",
       "      <td>2011</td>\n",
       "      <td>10244.94</td>\n",
       "      <td>6037</td>\n",
       "    </tr>\n",
       "    <tr>\n",
       "      <th>7</th>\n",
       "      <td>11585547</td>\n",
       "      <td>3.0</td>\n",
       "      <td>2.0</td>\n",
       "      <td>2077.0</td>\n",
       "      <td>646760.0</td>\n",
       "      <td>1926</td>\n",
       "      <td>7924.68</td>\n",
       "      <td>6037</td>\n",
       "    </tr>\n",
       "    <tr>\n",
       "      <th>18</th>\n",
       "      <td>12716947</td>\n",
       "      <td>3.0</td>\n",
       "      <td>1.0</td>\n",
       "      <td>1244.0</td>\n",
       "      <td>169471.0</td>\n",
       "      <td>1950</td>\n",
       "      <td>2532.88</td>\n",
       "      <td>6037</td>\n",
       "    </tr>\n",
       "    <tr>\n",
       "      <th>19</th>\n",
       "      <td>12757147</td>\n",
       "      <td>3.0</td>\n",
       "      <td>2.0</td>\n",
       "      <td>1300.0</td>\n",
       "      <td>233266.0</td>\n",
       "      <td>1950</td>\n",
       "      <td>3110.99</td>\n",
       "      <td>6037</td>\n",
       "    </tr>\n",
       "  </tbody>\n",
       "</table>\n",
       "</div>"
      ],
      "text/plain": [
       "    parcelid  bedroomcnt  bathroomcnt  sqr_ft  taxvaluedollarcnt  yearbuilt  \\\n",
       "4   11324547         4.0          2.0  3633.0           296425.0       2005   \n",
       "6   11544747         3.0          4.0  1620.0           847770.0       2011   \n",
       "7   11585547         3.0          2.0  2077.0           646760.0       1926   \n",
       "18  12716947         3.0          1.0  1244.0           169471.0       1950   \n",
       "19  12757147         3.0          2.0  1300.0           233266.0       1950   \n",
       "\n",
       "    taxamount  fips  \n",
       "4     6941.39  6037  \n",
       "6    10244.94  6037  \n",
       "7     7924.68  6037  \n",
       "18    2532.88  6037  \n",
       "19    3110.99  6037  "
      ]
     },
     "execution_count": 12,
     "metadata": {},
     "output_type": "execute_result"
    }
   ],
   "source": [
    "zillow = wr.wrangle_zillow()\n",
    "zillow.head()"
   ]
  },
  {
   "cell_type": "code",
   "execution_count": 13,
   "id": "136ffff7",
   "metadata": {},
   "outputs": [
    {
     "name": "stdout",
     "output_type": "stream",
     "text": [
      "<class 'pandas.core.frame.DataFrame'>\n",
      "Int64Index: 2096831 entries, 4 to 2152862\n",
      "Data columns (total 8 columns):\n",
      " #   Column             Non-Null Count    Dtype  \n",
      "---  ------             --------------    -----  \n",
      " 0   parcelid           2096831 non-null  int64  \n",
      " 1   bedroomcnt         2096831 non-null  float64\n",
      " 2   bathroomcnt        2096831 non-null  float64\n",
      " 3   sqr_ft             2096831 non-null  float64\n",
      " 4   taxvaluedollarcnt  2096831 non-null  float64\n",
      " 5   yearbuilt          2096831 non-null  int64  \n",
      " 6   taxamount          2096831 non-null  float64\n",
      " 7   fips               2096831 non-null  int64  \n",
      "dtypes: float64(5), int64(3)\n",
      "memory usage: 144.0 MB\n"
     ]
    }
   ],
   "source": [
    "zillow.info(show_counts=True)"
   ]
  },
  {
   "cell_type": "code",
   "execution_count": 14,
   "id": "5b8dba29",
   "metadata": {},
   "outputs": [
    {
     "data": {
      "text/plain": [
       "6037    1392868\n",
       "6059     543240\n",
       "6111     160723\n",
       "Name: fips, dtype: int64"
      ]
     },
     "execution_count": 14,
     "metadata": {},
     "output_type": "execute_result"
    }
   ],
   "source": [
    "zillow.fips.value_counts()"
   ]
  },
  {
   "cell_type": "code",
   "execution_count": 15,
   "id": "98e8b361",
   "metadata": {},
   "outputs": [],
   "source": [
    "# identified counties for fips codes \n",
    "counties = {'06037': 'los_angeles',\n",
    "            '06059': 'orange_county',\n",
    "            '06111': 'ventura'}"
   ]
  },
  {
   "cell_type": "markdown",
   "id": "8012de30",
   "metadata": {},
   "source": [
    "## Final Dataset:"
   ]
  },
  {
   "cell_type": "code",
   "execution_count": 18,
   "id": "a9f30067",
   "metadata": {},
   "outputs": [
    {
     "data": {
      "text/html": [
       "<div>\n",
       "<style scoped>\n",
       "    .dataframe tbody tr th:only-of-type {\n",
       "        vertical-align: middle;\n",
       "    }\n",
       "\n",
       "    .dataframe tbody tr th {\n",
       "        vertical-align: top;\n",
       "    }\n",
       "\n",
       "    .dataframe thead th {\n",
       "        text-align: right;\n",
       "    }\n",
       "</style>\n",
       "<table border=\"1\" class=\"dataframe\">\n",
       "  <thead>\n",
       "    <tr style=\"text-align: right;\">\n",
       "      <th></th>\n",
       "      <th>parcelid</th>\n",
       "      <th>bedroomcnt</th>\n",
       "      <th>bathroomcnt</th>\n",
       "      <th>sqr_ft</th>\n",
       "      <th>taxvaluedollarcnt</th>\n",
       "      <th>yearbuilt</th>\n",
       "      <th>taxamount</th>\n",
       "      <th>fips</th>\n",
       "    </tr>\n",
       "  </thead>\n",
       "  <tbody>\n",
       "    <tr>\n",
       "      <th>4</th>\n",
       "      <td>11324547</td>\n",
       "      <td>4.0</td>\n",
       "      <td>2.0</td>\n",
       "      <td>3633.0</td>\n",
       "      <td>296425.0</td>\n",
       "      <td>2005</td>\n",
       "      <td>6941.39</td>\n",
       "      <td>6037</td>\n",
       "    </tr>\n",
       "    <tr>\n",
       "      <th>6</th>\n",
       "      <td>11544747</td>\n",
       "      <td>3.0</td>\n",
       "      <td>4.0</td>\n",
       "      <td>1620.0</td>\n",
       "      <td>847770.0</td>\n",
       "      <td>2011</td>\n",
       "      <td>10244.94</td>\n",
       "      <td>6037</td>\n",
       "    </tr>\n",
       "    <tr>\n",
       "      <th>7</th>\n",
       "      <td>11585547</td>\n",
       "      <td>3.0</td>\n",
       "      <td>2.0</td>\n",
       "      <td>2077.0</td>\n",
       "      <td>646760.0</td>\n",
       "      <td>1926</td>\n",
       "      <td>7924.68</td>\n",
       "      <td>6037</td>\n",
       "    </tr>\n",
       "    <tr>\n",
       "      <th>18</th>\n",
       "      <td>12716947</td>\n",
       "      <td>3.0</td>\n",
       "      <td>1.0</td>\n",
       "      <td>1244.0</td>\n",
       "      <td>169471.0</td>\n",
       "      <td>1950</td>\n",
       "      <td>2532.88</td>\n",
       "      <td>6037</td>\n",
       "    </tr>\n",
       "    <tr>\n",
       "      <th>19</th>\n",
       "      <td>12757147</td>\n",
       "      <td>3.0</td>\n",
       "      <td>2.0</td>\n",
       "      <td>1300.0</td>\n",
       "      <td>233266.0</td>\n",
       "      <td>1950</td>\n",
       "      <td>3110.99</td>\n",
       "      <td>6037</td>\n",
       "    </tr>\n",
       "  </tbody>\n",
       "</table>\n",
       "</div>"
      ],
      "text/plain": [
       "    parcelid  bedroomcnt  bathroomcnt  sqr_ft  taxvaluedollarcnt  yearbuilt  \\\n",
       "4   11324547         4.0          2.0  3633.0           296425.0       2005   \n",
       "6   11544747         3.0          4.0  1620.0           847770.0       2011   \n",
       "7   11585547         3.0          2.0  2077.0           646760.0       1926   \n",
       "18  12716947         3.0          1.0  1244.0           169471.0       1950   \n",
       "19  12757147         3.0          2.0  1300.0           233266.0       1950   \n",
       "\n",
       "    taxamount  fips  \n",
       "4     6941.39  6037  \n",
       "6    10244.94  6037  \n",
       "7     7924.68  6037  \n",
       "18    2532.88  6037  \n",
       "19    3110.99  6037  "
      ]
     },
     "execution_count": 18,
     "metadata": {},
     "output_type": "execute_result"
    }
   ],
   "source": [
    "zillow.head()"
   ]
  },
  {
   "cell_type": "markdown",
   "id": "ee3b8e72",
   "metadata": {},
   "source": [
    "# Proportion of data left after cleaning using following assumptions:\n",
    " > * minimum square feet >= 70 ft\n",
    " > * minimum square ft calculated also by bthroomcnt * 10 sqr ft \n",
    "added to bedroomcnt * 70 sqr ft\n",
    " > * all numeric values with z scores over 3.5 taken out"
   ]
  },
  {
   "cell_type": "code",
   "execution_count": 19,
   "id": "68ed5863",
   "metadata": {},
   "outputs": [
    {
     "data": {
      "text/plain": [
       "0.9739732625810374"
      ]
     },
     "execution_count": 19,
     "metadata": {},
     "output_type": "execute_result"
    }
   ],
   "source": [
    "zillow.shape[0] / acquire.get_zillow_data().shape[0]"
   ]
  },
  {
   "cell_type": "markdown",
   "id": "63b16f82",
   "metadata": {},
   "source": [
    "## Final:\n",
    "> 97.40% data left after cleaning data / purging extreme values."
   ]
  },
  {
   "cell_type": "markdown",
   "id": "f8c55e7d",
   "metadata": {},
   "source": [
    "## Visualizations of Univariate Distributions"
   ]
  },
  {
   "cell_type": "code",
   "execution_count": 17,
   "id": "2fd5e3e9",
   "metadata": {
    "scrolled": false
   },
   "outputs": [
    {
     "data": {
      "image/png": "[encoded data removed]",
      "text/plain": [
       "<Figure size 432x288 with 1 Axes>"
      ]
     },
     "metadata": {
      "needs_background": "light"
     },
     "output_type": "display_data"
    },
    {
     "data": {
      "image/png": "[encoded data removed]",
      "text/plain": [
       "<Figure size 432x288 with 1 Axes>"
      ]
     },
     "metadata": {
      "needs_background": "light"
     },
     "output_type": "display_data"
    },
    {
     "data": {
      "image/png": "[encoded data removed]",
      "text/plain": [
       "<Figure size 432x288 with 1 Axes>"
      ]
     },
     "metadata": {
      "needs_background": "light"
     },
     "output_type": "display_data"
    },
    {
     "data": {
      "image/png": "[encoded data removed]",
      "text/plain": [
       "<Figure size 432x288 with 1 Axes>"
      ]
     },
     "metadata": {
      "needs_background": "light"
     },
     "output_type": "display_data"
    },
    {
     "data": {
      "image/png": "[encoded data removed]",
      "text/plain": [
       "<Figure size 432x288 with 1 Axes>"
      ]
     },
     "metadata": {
      "needs_background": "light"
     },
     "output_type": "display_data"
    },
    {
     "data": {
      "image/png": "[encoded data removed]",
      "text/plain": [
       "<Figure size 432x288 with 1 Axes>"
      ]
     },
     "metadata": {
      "needs_background": "light"
     },
     "output_type": "display_data"
    },
    {
     "data": {
      "image/png": "[encoded data removed]",
      "text/plain": [
       "<Figure size 432x288 with 1 Axes>"
      ]
     },
     "metadata": {
      "needs_background": "light"
     },
     "output_type": "display_data"
    }
   ],
   "source": [
    "cols_to_visualize = zillow.drop(columns='parcelid').columns\n",
    "for col in cols_to_visualize:\n",
    "    exp.target_freq_hist_count(zillow, col)\n",
    "    plt.xlabel(col)\n",
    "    plt.show()"
   ]
  },
  {
   "cell_type": "code",
   "execution_count": null,
   "id": "349c54a4",
   "metadata": {},
   "outputs": [],
   "source": []
  }
 ],
 "metadata": {
  "kernelspec": {
   "display_name": "Python 3 (ipykernel)",
   "language": "python",
   "name": "python3"
  },
  "language_info": {
   "codemirror_mode": {
    "name": "ipython",
    "version": 3
   },
   "file_extension": ".py",
   "mimetype": "text/x-python",
   "name": "python",
   "nbconvert_exporter": "python",
   "pygments_lexer": "ipython3",
   "version": "3.9.7"
  }
 },
 "nbformat": 4,
 "nbformat_minor": 5
}
