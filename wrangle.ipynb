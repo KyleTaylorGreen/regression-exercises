{
 "cells": [
  {
   "cell_type": "code",
   "execution_count": 1,
   "id": "051f0aae",
   "metadata": {},
   "outputs": [],
   "source": [
    "import pandas as pd\n",
    "import numpy as np\n",
    "import env\n",
    "\n",
    "import matplotlib.pyplot as plt\n",
    "import seaborn as sns\n",
    "\n",
    "\n",
    "import env\n",
    "import gmaps\n",
    "import gmaps.datasets\n",
    "import acquire\n",
    "import wrangle as wr\n",
    "import exploration as exp\n",
    "from IPython.display import display"
   ]
  },
  {
   "cell_type": "markdown",
   "id": "e62a70bc",
   "metadata": {},
   "source": [
    "## Acquiring Zillow Data"
   ]
  },
  {
   "cell_type": "code",
   "execution_count": 2,
   "id": "d8c5f400",
   "metadata": {
    "scrolled": true
   },
   "outputs": [
    {
     "data": {
      "text/html": [
       "<div>\n",
       "<style scoped>\n",
       "    .dataframe tbody tr th:only-of-type {\n",
       "        vertical-align: middle;\n",
       "    }\n",
       "\n",
       "    .dataframe tbody tr th {\n",
       "        vertical-align: top;\n",
       "    }\n",
       "\n",
       "    .dataframe thead th {\n",
       "        text-align: right;\n",
       "    }\n",
       "</style>\n",
       "<table border=\"1\" class=\"dataframe\">\n",
       "  <thead>\n",
       "    <tr style=\"text-align: right;\">\n",
       "      <th></th>\n",
       "      <th>Unnamed: 0</th>\n",
       "      <th>parcelid</th>\n",
       "      <th>bedroomcnt</th>\n",
       "      <th>bathroomcnt</th>\n",
       "      <th>calculatedfinishedsquarefeet</th>\n",
       "      <th>taxvaluedollarcnt</th>\n",
       "      <th>yearbuilt</th>\n",
       "      <th>taxamount</th>\n",
       "      <th>fips</th>\n",
       "      <th>latitude</th>\n",
       "      <th>longitude</th>\n",
       "    </tr>\n",
       "  </thead>\n",
       "  <tbody>\n",
       "    <tr>\n",
       "      <th>0</th>\n",
       "      <td>0</td>\n",
       "      <td>10759547</td>\n",
       "      <td>0.0</td>\n",
       "      <td>0.0</td>\n",
       "      <td>NaN</td>\n",
       "      <td>27516.0</td>\n",
       "      <td>NaN</td>\n",
       "      <td>NaN</td>\n",
       "      <td>6037.0</td>\n",
       "      <td>34140430.0</td>\n",
       "      <td>-118625364.0</td>\n",
       "    </tr>\n",
       "    <tr>\n",
       "      <th>1</th>\n",
       "      <td>1</td>\n",
       "      <td>11193347</td>\n",
       "      <td>0.0</td>\n",
       "      <td>0.0</td>\n",
       "      <td>NaN</td>\n",
       "      <td>10.0</td>\n",
       "      <td>NaN</td>\n",
       "      <td>NaN</td>\n",
       "      <td>6037.0</td>\n",
       "      <td>34585014.0</td>\n",
       "      <td>-118162010.0</td>\n",
       "    </tr>\n",
       "    <tr>\n",
       "      <th>2</th>\n",
       "      <td>2</td>\n",
       "      <td>11215747</td>\n",
       "      <td>0.0</td>\n",
       "      <td>0.0</td>\n",
       "      <td>NaN</td>\n",
       "      <td>10.0</td>\n",
       "      <td>NaN</td>\n",
       "      <td>NaN</td>\n",
       "      <td>6037.0</td>\n",
       "      <td>34563376.0</td>\n",
       "      <td>-118019104.0</td>\n",
       "    </tr>\n",
       "    <tr>\n",
       "      <th>3</th>\n",
       "      <td>3</td>\n",
       "      <td>11229347</td>\n",
       "      <td>0.0</td>\n",
       "      <td>0.0</td>\n",
       "      <td>NaN</td>\n",
       "      <td>2108.0</td>\n",
       "      <td>NaN</td>\n",
       "      <td>174.21</td>\n",
       "      <td>6037.0</td>\n",
       "      <td>34526913.0</td>\n",
       "      <td>-118050581.0</td>\n",
       "    </tr>\n",
       "    <tr>\n",
       "      <th>4</th>\n",
       "      <td>4</td>\n",
       "      <td>11324547</td>\n",
       "      <td>4.0</td>\n",
       "      <td>2.0</td>\n",
       "      <td>3633.0</td>\n",
       "      <td>296425.0</td>\n",
       "      <td>2005.0</td>\n",
       "      <td>6941.39</td>\n",
       "      <td>6037.0</td>\n",
       "      <td>34560018.0</td>\n",
       "      <td>-118169806.0</td>\n",
       "    </tr>\n",
       "  </tbody>\n",
       "</table>\n",
       "</div>"
      ],
      "text/plain": [
       "   Unnamed: 0  parcelid  bedroomcnt  bathroomcnt  \\\n",
       "0           0  10759547         0.0          0.0   \n",
       "1           1  11193347         0.0          0.0   \n",
       "2           2  11215747         0.0          0.0   \n",
       "3           3  11229347         0.0          0.0   \n",
       "4           4  11324547         4.0          2.0   \n",
       "\n",
       "   calculatedfinishedsquarefeet  taxvaluedollarcnt  yearbuilt  taxamount  \\\n",
       "0                           NaN            27516.0        NaN        NaN   \n",
       "1                           NaN               10.0        NaN        NaN   \n",
       "2                           NaN               10.0        NaN        NaN   \n",
       "3                           NaN             2108.0        NaN     174.21   \n",
       "4                        3633.0           296425.0     2005.0    6941.39   \n",
       "\n",
       "     fips    latitude    longitude  \n",
       "0  6037.0  34140430.0 -118625364.0  \n",
       "1  6037.0  34585014.0 -118162010.0  \n",
       "2  6037.0  34563376.0 -118019104.0  \n",
       "3  6037.0  34526913.0 -118050581.0  \n",
       "4  6037.0  34560018.0 -118169806.0  "
      ]
     },
     "execution_count": 2,
     "metadata": {},
     "output_type": "execute_result"
    }
   ],
   "source": [
    "zillow = acquire.get_zillow_data()\n",
    "zillow.head()"
   ]
  },
  {
   "cell_type": "markdown",
   "id": "b8f3e73d",
   "metadata": {},
   "source": [
    "## Checking/Correcting Null Values"
   ]
  },
  {
   "cell_type": "code",
   "execution_count": 3,
   "id": "583ef013",
   "metadata": {},
   "outputs": [
    {
     "data": {
      "text/plain": [
       "Unnamed: 0                         0\n",
       "parcelid                           0\n",
       "bedroomcnt                        11\n",
       "bathroomcnt                       11\n",
       "calculatedfinishedsquarefeet    8485\n",
       "taxvaluedollarcnt                493\n",
       "yearbuilt                       9338\n",
       "taxamount                       4442\n",
       "fips                               0\n",
       "latitude                           0\n",
       "longitude                          0\n",
       "dtype: int64"
      ]
     },
     "execution_count": 3,
     "metadata": {},
     "output_type": "execute_result"
    }
   ],
   "source": [
    "# checking total nulls in each column\n",
    "zillow.isna().sum()"
   ]
  },
  {
   "cell_type": "code",
   "execution_count": 4,
   "id": "e183c4cc",
   "metadata": {},
   "outputs": [
    {
     "data": {
      "text/plain": [
       "(2152864, 11)"
      ]
     },
     "execution_count": 4,
     "metadata": {},
     "output_type": "execute_result"
    }
   ],
   "source": [
    "# checking number of rows\n",
    "zillow.shape"
   ]
  },
  {
   "cell_type": "code",
   "execution_count": 5,
   "id": "b6ec3949",
   "metadata": {
    "scrolled": true
   },
   "outputs": [
    {
     "data": {
      "text/plain": [
       "Unnamed: 0                      0.000000\n",
       "parcelid                        0.000000\n",
       "bedroomcnt                      0.000005\n",
       "bathroomcnt                     0.000005\n",
       "calculatedfinishedsquarefeet    0.003941\n",
       "taxvaluedollarcnt               0.000229\n",
       "yearbuilt                       0.004337\n",
       "taxamount                       0.002063\n",
       "fips                            0.000000\n",
       "latitude                        0.000000\n",
       "longitude                       0.000000\n",
       "dtype: float64"
      ]
     },
     "execution_count": 5,
     "metadata": {},
     "output_type": "execute_result"
    }
   ],
   "source": [
    "# creating proportions to see percentage of nulls in each column\n",
    "zillow.isna().sum() / zillow.shape[0]"
   ]
  },
  {
   "cell_type": "markdown",
   "id": "e3f00f1a",
   "metadata": {},
   "source": [
    "### Conclusion: \n",
    "> Nulls make up very small percent of data set, I feel comfortable dropping them."
   ]
  },
  {
   "cell_type": "code",
   "execution_count": 6,
   "id": "a471e256",
   "metadata": {},
   "outputs": [
    {
     "data": {
      "text/plain": [
       "0.9941338607547899"
      ]
     },
     "execution_count": 6,
     "metadata": {},
     "output_type": "execute_result"
    }
   ],
   "source": [
    "# Drop null values and then compare new df shape \n",
    "zillow = zillow.dropna()\n",
    "#zillow = zillow.drop(columns='Unnamed: 0')\n",
    "\n",
    "# readability\n",
    "zillow = zillow.rename(columns={'calculatedfinishedsquarefeet': 'sqr_ft'})\n",
    "\n",
    "zillow.shape[0] / acquire.get_zillow_data().shape[0]"
   ]
  },
  {
   "cell_type": "markdown",
   "id": "54ea785f",
   "metadata": {},
   "source": [
    "### We still retrain 99.41% of our data with over 2 million rows."
   ]
  },
  {
   "cell_type": "markdown",
   "id": "358bee2c",
   "metadata": {},
   "source": [
    "## Checking Data Type Consistency"
   ]
  },
  {
   "cell_type": "code",
   "execution_count": 7,
   "id": "94ee7e92",
   "metadata": {
    "scrolled": false
   },
   "outputs": [
    {
     "name": "stdout",
     "output_type": "stream",
     "text": [
      "<class 'pandas.core.frame.DataFrame'>\n",
      "Int64Index: 2140235 entries, 4 to 2152863\n",
      "Data columns (total 11 columns):\n",
      " #   Column             Dtype  \n",
      "---  ------             -----  \n",
      " 0   Unnamed: 0         int64  \n",
      " 1   parcelid           int64  \n",
      " 2   bedroomcnt         float64\n",
      " 3   bathroomcnt        float64\n",
      " 4   sqr_ft             float64\n",
      " 5   taxvaluedollarcnt  float64\n",
      " 6   yearbuilt          float64\n",
      " 7   taxamount          float64\n",
      " 8   fips               float64\n",
      " 9   latitude           float64\n",
      " 10  longitude          float64\n",
      "dtypes: float64(9), int64(2)\n",
      "memory usage: 195.9 MB\n"
     ]
    }
   ],
   "source": [
    "zillow.info()"
   ]
  },
  {
   "cell_type": "markdown",
   "id": "5d244d73",
   "metadata": {},
   "source": [
    "### Conclusion:\n",
    "> All numeric types are already numeric, although fips and yearbuilt would be better as int64.\n",
    "Will change yearbuilt to int and fips to int, although fips may be dropped eventually."
   ]
  },
  {
   "cell_type": "code",
   "execution_count": 8,
   "id": "a126c0a5",
   "metadata": {},
   "outputs": [
    {
     "name": "stdout",
     "output_type": "stream",
     "text": [
      "<class 'pandas.core.frame.DataFrame'>\n",
      "Int64Index: 2140235 entries, 4 to 2152863\n",
      "Data columns (total 11 columns):\n",
      " #   Column             Dtype  \n",
      "---  ------             -----  \n",
      " 0   Unnamed: 0         int64  \n",
      " 1   parcelid           int64  \n",
      " 2   bedroomcnt         float64\n",
      " 3   bathroomcnt        float64\n",
      " 4   sqr_ft             float64\n",
      " 5   taxvaluedollarcnt  float64\n",
      " 6   yearbuilt          int64  \n",
      " 7   taxamount          float64\n",
      " 8   fips               int64  \n",
      " 9   latitude           float64\n",
      " 10  longitude          float64\n",
      "dtypes: float64(7), int64(4)\n",
      "memory usage: 195.9 MB\n"
     ]
    }
   ],
   "source": [
    "cols = ['yearbuilt', 'fips']\n",
    "zillow[cols] = zillow[cols].astype('int64')\n",
    "zillow.info()"
   ]
  },
  {
   "cell_type": "markdown",
   "id": "1018a2d7",
   "metadata": {},
   "source": [
    "## Analyzing Weird Values in Dataset"
   ]
  },
  {
   "cell_type": "code",
   "execution_count": 9,
   "id": "91491891",
   "metadata": {
    "scrolled": true
   },
   "outputs": [
    {
     "data": {
      "text/html": [
       "<div>\n",
       "<style scoped>\n",
       "    .dataframe tbody tr th:only-of-type {\n",
       "        vertical-align: middle;\n",
       "    }\n",
       "\n",
       "    .dataframe tbody tr th {\n",
       "        vertical-align: top;\n",
       "    }\n",
       "\n",
       "    .dataframe thead th {\n",
       "        text-align: right;\n",
       "    }\n",
       "</style>\n",
       "<table border=\"1\" class=\"dataframe\">\n",
       "  <thead>\n",
       "    <tr style=\"text-align: right;\">\n",
       "      <th></th>\n",
       "      <th>count</th>\n",
       "      <th>mean</th>\n",
       "      <th>std</th>\n",
       "      <th>min</th>\n",
       "      <th>25%</th>\n",
       "      <th>50%</th>\n",
       "      <th>75%</th>\n",
       "      <th>max</th>\n",
       "    </tr>\n",
       "  </thead>\n",
       "  <tbody>\n",
       "    <tr>\n",
       "      <th>Unnamed: 0</th>\n",
       "      <td>2140235.0</td>\n",
       "      <td>1.076424e+06</td>\n",
       "      <td>6.214484e+05</td>\n",
       "      <td>4.000000e+00</td>\n",
       "      <td>5.382735e+05</td>\n",
       "      <td>1.076351e+06</td>\n",
       "      <td>1.614604e+06</td>\n",
       "      <td>2.152863e+06</td>\n",
       "    </tr>\n",
       "    <tr>\n",
       "      <th>parcelid</th>\n",
       "      <td>2140235.0</td>\n",
       "      <td>1.304843e+07</td>\n",
       "      <td>4.568911e+06</td>\n",
       "      <td>1.071172e+07</td>\n",
       "      <td>1.165653e+07</td>\n",
       "      <td>1.259605e+07</td>\n",
       "      <td>1.405310e+07</td>\n",
       "      <td>1.681836e+08</td>\n",
       "    </tr>\n",
       "    <tr>\n",
       "      <th>bedroomcnt</th>\n",
       "      <td>2140235.0</td>\n",
       "      <td>3.301419e+00</td>\n",
       "      <td>9.325998e-01</td>\n",
       "      <td>0.000000e+00</td>\n",
       "      <td>3.000000e+00</td>\n",
       "      <td>3.000000e+00</td>\n",
       "      <td>4.000000e+00</td>\n",
       "      <td>2.500000e+01</td>\n",
       "    </tr>\n",
       "    <tr>\n",
       "      <th>bathroomcnt</th>\n",
       "      <td>2140235.0</td>\n",
       "      <td>2.240352e+00</td>\n",
       "      <td>9.905489e-01</td>\n",
       "      <td>0.000000e+00</td>\n",
       "      <td>2.000000e+00</td>\n",
       "      <td>2.000000e+00</td>\n",
       "      <td>3.000000e+00</td>\n",
       "      <td>3.200000e+01</td>\n",
       "    </tr>\n",
       "    <tr>\n",
       "      <th>sqr_ft</th>\n",
       "      <td>2140235.0</td>\n",
       "      <td>1.863194e+03</td>\n",
       "      <td>1.221754e+03</td>\n",
       "      <td>1.000000e+00</td>\n",
       "      <td>1.258000e+03</td>\n",
       "      <td>1.623000e+03</td>\n",
       "      <td>2.208000e+03</td>\n",
       "      <td>9.525760e+05</td>\n",
       "    </tr>\n",
       "    <tr>\n",
       "      <th>taxvaluedollarcnt</th>\n",
       "      <td>2140235.0</td>\n",
       "      <td>4.606416e+05</td>\n",
       "      <td>6.771576e+05</td>\n",
       "      <td>2.200000e+01</td>\n",
       "      <td>1.891660e+05</td>\n",
       "      <td>3.282960e+05</td>\n",
       "      <td>5.346060e+05</td>\n",
       "      <td>9.018846e+07</td>\n",
       "    </tr>\n",
       "    <tr>\n",
       "      <th>yearbuilt</th>\n",
       "      <td>2140235.0</td>\n",
       "      <td>1.960968e+03</td>\n",
       "      <td>2.215056e+01</td>\n",
       "      <td>1.801000e+03</td>\n",
       "      <td>1.949000e+03</td>\n",
       "      <td>1.958000e+03</td>\n",
       "      <td>1.976000e+03</td>\n",
       "      <td>2.016000e+03</td>\n",
       "    </tr>\n",
       "    <tr>\n",
       "      <th>taxamount</th>\n",
       "      <td>2140235.0</td>\n",
       "      <td>5.616711e+03</td>\n",
       "      <td>7.814563e+03</td>\n",
       "      <td>6.340000e+00</td>\n",
       "      <td>2.540850e+03</td>\n",
       "      <td>4.111470e+03</td>\n",
       "      <td>6.411930e+03</td>\n",
       "      <td>1.078102e+06</td>\n",
       "    </tr>\n",
       "    <tr>\n",
       "      <th>fips</th>\n",
       "      <td>2140235.0</td>\n",
       "      <td>6.048310e+03</td>\n",
       "      <td>2.034491e+01</td>\n",
       "      <td>6.037000e+03</td>\n",
       "      <td>6.037000e+03</td>\n",
       "      <td>6.037000e+03</td>\n",
       "      <td>6.059000e+03</td>\n",
       "      <td>6.111000e+03</td>\n",
       "    </tr>\n",
       "    <tr>\n",
       "      <th>latitude</th>\n",
       "      <td>2140235.0</td>\n",
       "      <td>3.400722e+07</td>\n",
       "      <td>2.480026e+05</td>\n",
       "      <td>3.333991e+07</td>\n",
       "      <td>3.383196e+07</td>\n",
       "      <td>3.400412e+07</td>\n",
       "      <td>3.417018e+07</td>\n",
       "      <td>3.481965e+07</td>\n",
       "    </tr>\n",
       "    <tr>\n",
       "      <th>longitude</th>\n",
       "      <td>2140235.0</td>\n",
       "      <td>-1.181904e+08</td>\n",
       "      <td>3.430404e+05</td>\n",
       "      <td>-1.194758e+08</td>\n",
       "      <td>-1.183839e+08</td>\n",
       "      <td>-1.181440e+08</td>\n",
       "      <td>-1.179442e+08</td>\n",
       "      <td>-1.175543e+08</td>\n",
       "    </tr>\n",
       "  </tbody>\n",
       "</table>\n",
       "</div>"
      ],
      "text/plain": [
       "                       count          mean           std           min  \\\n",
       "Unnamed: 0         2140235.0  1.076424e+06  6.214484e+05  4.000000e+00   \n",
       "parcelid           2140235.0  1.304843e+07  4.568911e+06  1.071172e+07   \n",
       "bedroomcnt         2140235.0  3.301419e+00  9.325998e-01  0.000000e+00   \n",
       "bathroomcnt        2140235.0  2.240352e+00  9.905489e-01  0.000000e+00   \n",
       "sqr_ft             2140235.0  1.863194e+03  1.221754e+03  1.000000e+00   \n",
       "taxvaluedollarcnt  2140235.0  4.606416e+05  6.771576e+05  2.200000e+01   \n",
       "yearbuilt          2140235.0  1.960968e+03  2.215056e+01  1.801000e+03   \n",
       "taxamount          2140235.0  5.616711e+03  7.814563e+03  6.340000e+00   \n",
       "fips               2140235.0  6.048310e+03  2.034491e+01  6.037000e+03   \n",
       "latitude           2140235.0  3.400722e+07  2.480026e+05  3.333991e+07   \n",
       "longitude          2140235.0 -1.181904e+08  3.430404e+05 -1.194758e+08   \n",
       "\n",
       "                            25%           50%           75%           max  \n",
       "Unnamed: 0         5.382735e+05  1.076351e+06  1.614604e+06  2.152863e+06  \n",
       "parcelid           1.165653e+07  1.259605e+07  1.405310e+07  1.681836e+08  \n",
       "bedroomcnt         3.000000e+00  3.000000e+00  4.000000e+00  2.500000e+01  \n",
       "bathroomcnt        2.000000e+00  2.000000e+00  3.000000e+00  3.200000e+01  \n",
       "sqr_ft             1.258000e+03  1.623000e+03  2.208000e+03  9.525760e+05  \n",
       "taxvaluedollarcnt  1.891660e+05  3.282960e+05  5.346060e+05  9.018846e+07  \n",
       "yearbuilt          1.949000e+03  1.958000e+03  1.976000e+03  2.016000e+03  \n",
       "taxamount          2.540850e+03  4.111470e+03  6.411930e+03  1.078102e+06  \n",
       "fips               6.037000e+03  6.037000e+03  6.059000e+03  6.111000e+03  \n",
       "latitude           3.383196e+07  3.400412e+07  3.417018e+07  3.481965e+07  \n",
       "longitude         -1.183839e+08 -1.181440e+08 -1.179442e+08 -1.175543e+08  "
      ]
     },
     "execution_count": 9,
     "metadata": {},
     "output_type": "execute_result"
    }
   ],
   "source": [
    "# overview description of values\n",
    "zillow.describe().T"
   ]
  },
  {
   "cell_type": "markdown",
   "id": "448dc97b",
   "metadata": {},
   "source": [
    "# Takeaways:\n",
    "> * calculatedfinishedsquarefeet should not have a value of 1.00\n",
    "> * bedroomcnt + bathroomcnt having 0 is weird but not necessarily impossible. Need further research to see how prevalent this is.\n"
   ]
  },
  {
   "cell_type": "markdown",
   "id": "2b37d30c",
   "metadata": {},
   "source": [
    "## Cleaning Strange Values"
   ]
  },
  {
   "cell_type": "markdown",
   "id": "f0bfc912",
   "metadata": {},
   "source": [
    "https://worldpopulationreview.com/state-rankings/minimum-house-size-by-state\n",
    "\n",
    "Using this resource, I'm going to limit the data to only include houses with square footage above 70 square feet."
   ]
  },
  {
   "cell_type": "code",
   "execution_count": 10,
   "id": "5216770f",
   "metadata": {},
   "outputs": [
    {
     "data": {
      "text/html": [
       "<div>\n",
       "<style scoped>\n",
       "    .dataframe tbody tr th:only-of-type {\n",
       "        vertical-align: middle;\n",
       "    }\n",
       "\n",
       "    .dataframe tbody tr th {\n",
       "        vertical-align: top;\n",
       "    }\n",
       "\n",
       "    .dataframe thead th {\n",
       "        text-align: right;\n",
       "    }\n",
       "</style>\n",
       "<table border=\"1\" class=\"dataframe\">\n",
       "  <thead>\n",
       "    <tr style=\"text-align: right;\">\n",
       "      <th></th>\n",
       "      <th>Unnamed: 0</th>\n",
       "      <th>parcelid</th>\n",
       "      <th>bedroomcnt</th>\n",
       "      <th>bathroomcnt</th>\n",
       "      <th>sqr_ft</th>\n",
       "      <th>taxvaluedollarcnt</th>\n",
       "      <th>yearbuilt</th>\n",
       "      <th>taxamount</th>\n",
       "      <th>fips</th>\n",
       "      <th>latitude</th>\n",
       "      <th>longitude</th>\n",
       "    </tr>\n",
       "  </thead>\n",
       "  <tbody>\n",
       "    <tr>\n",
       "      <th>4</th>\n",
       "      <td>4</td>\n",
       "      <td>11324547</td>\n",
       "      <td>4.0</td>\n",
       "      <td>2.0</td>\n",
       "      <td>3633.0</td>\n",
       "      <td>296425.0</td>\n",
       "      <td>2005</td>\n",
       "      <td>6941.39</td>\n",
       "      <td>6037</td>\n",
       "      <td>34560018.0</td>\n",
       "      <td>-118169806.0</td>\n",
       "    </tr>\n",
       "    <tr>\n",
       "      <th>6</th>\n",
       "      <td>6</td>\n",
       "      <td>11544747</td>\n",
       "      <td>3.0</td>\n",
       "      <td>4.0</td>\n",
       "      <td>1620.0</td>\n",
       "      <td>847770.0</td>\n",
       "      <td>2011</td>\n",
       "      <td>10244.94</td>\n",
       "      <td>6037</td>\n",
       "      <td>33996200.0</td>\n",
       "      <td>-118438000.0</td>\n",
       "    </tr>\n",
       "    <tr>\n",
       "      <th>7</th>\n",
       "      <td>7</td>\n",
       "      <td>11585547</td>\n",
       "      <td>3.0</td>\n",
       "      <td>2.0</td>\n",
       "      <td>2077.0</td>\n",
       "      <td>646760.0</td>\n",
       "      <td>1926</td>\n",
       "      <td>7924.68</td>\n",
       "      <td>6037</td>\n",
       "      <td>34012977.0</td>\n",
       "      <td>-118479243.0</td>\n",
       "    </tr>\n",
       "    <tr>\n",
       "      <th>11</th>\n",
       "      <td>11</td>\n",
       "      <td>11954547</td>\n",
       "      <td>0.0</td>\n",
       "      <td>0.0</td>\n",
       "      <td>1200.0</td>\n",
       "      <td>5328.0</td>\n",
       "      <td>1972</td>\n",
       "      <td>91.60</td>\n",
       "      <td>6037</td>\n",
       "      <td>34097714.0</td>\n",
       "      <td>-118248712.0</td>\n",
       "    </tr>\n",
       "    <tr>\n",
       "      <th>14</th>\n",
       "      <td>14</td>\n",
       "      <td>12537947</td>\n",
       "      <td>0.0</td>\n",
       "      <td>0.0</td>\n",
       "      <td>171.0</td>\n",
       "      <td>6920.0</td>\n",
       "      <td>1973</td>\n",
       "      <td>255.17</td>\n",
       "      <td>6037</td>\n",
       "      <td>33770827.0</td>\n",
       "      <td>-118156513.0</td>\n",
       "    </tr>\n",
       "    <tr>\n",
       "      <th>...</th>\n",
       "      <td>...</td>\n",
       "      <td>...</td>\n",
       "      <td>...</td>\n",
       "      <td>...</td>\n",
       "      <td>...</td>\n",
       "      <td>...</td>\n",
       "      <td>...</td>\n",
       "      <td>...</td>\n",
       "      <td>...</td>\n",
       "      <td>...</td>\n",
       "      <td>...</td>\n",
       "    </tr>\n",
       "    <tr>\n",
       "      <th>2152857</th>\n",
       "      <td>2152857</td>\n",
       "      <td>13027311</td>\n",
       "      <td>4.0</td>\n",
       "      <td>4.0</td>\n",
       "      <td>4375.0</td>\n",
       "      <td>422400.0</td>\n",
       "      <td>2015</td>\n",
       "      <td>13877.56</td>\n",
       "      <td>6037</td>\n",
       "      <td>34137792.0</td>\n",
       "      <td>-117894004.0</td>\n",
       "    </tr>\n",
       "    <tr>\n",
       "      <th>2152859</th>\n",
       "      <td>2152859</td>\n",
       "      <td>14356230</td>\n",
       "      <td>4.0</td>\n",
       "      <td>3.0</td>\n",
       "      <td>2262.0</td>\n",
       "      <td>960756.0</td>\n",
       "      <td>2015</td>\n",
       "      <td>13494.52</td>\n",
       "      <td>6059</td>\n",
       "      <td>33687201.0</td>\n",
       "      <td>-117759785.0</td>\n",
       "    </tr>\n",
       "    <tr>\n",
       "      <th>2152860</th>\n",
       "      <td>2152860</td>\n",
       "      <td>14157725</td>\n",
       "      <td>4.0</td>\n",
       "      <td>4.5</td>\n",
       "      <td>3127.0</td>\n",
       "      <td>536061.0</td>\n",
       "      <td>2014</td>\n",
       "      <td>6244.16</td>\n",
       "      <td>6059</td>\n",
       "      <td>33929748.0</td>\n",
       "      <td>-117801513.0</td>\n",
       "    </tr>\n",
       "    <tr>\n",
       "      <th>2152862</th>\n",
       "      <td>2152862</td>\n",
       "      <td>14367624</td>\n",
       "      <td>3.0</td>\n",
       "      <td>2.5</td>\n",
       "      <td>1974.0</td>\n",
       "      <td>424353.0</td>\n",
       "      <td>2015</td>\n",
       "      <td>5302.70</td>\n",
       "      <td>6059</td>\n",
       "      <td>33645700.0</td>\n",
       "      <td>-117598692.0</td>\n",
       "    </tr>\n",
       "    <tr>\n",
       "      <th>2152863</th>\n",
       "      <td>2152863</td>\n",
       "      <td>12385768</td>\n",
       "      <td>4.0</td>\n",
       "      <td>4.0</td>\n",
       "      <td>2110.0</td>\n",
       "      <td>554009.0</td>\n",
       "      <td>2014</td>\n",
       "      <td>6761.20</td>\n",
       "      <td>6037</td>\n",
       "      <td>33951985.0</td>\n",
       "      <td>-118124097.0</td>\n",
       "    </tr>\n",
       "  </tbody>\n",
       "</table>\n",
       "<p>2140137 rows × 11 columns</p>\n",
       "</div>"
      ],
      "text/plain": [
       "         Unnamed: 0  parcelid  bedroomcnt  bathroomcnt  sqr_ft  \\\n",
       "4                 4  11324547         4.0          2.0  3633.0   \n",
       "6                 6  11544747         3.0          4.0  1620.0   \n",
       "7                 7  11585547         3.0          2.0  2077.0   \n",
       "11               11  11954547         0.0          0.0  1200.0   \n",
       "14               14  12537947         0.0          0.0   171.0   \n",
       "...             ...       ...         ...          ...     ...   \n",
       "2152857     2152857  13027311         4.0          4.0  4375.0   \n",
       "2152859     2152859  14356230         4.0          3.0  2262.0   \n",
       "2152860     2152860  14157725         4.0          4.5  3127.0   \n",
       "2152862     2152862  14367624         3.0          2.5  1974.0   \n",
       "2152863     2152863  12385768         4.0          4.0  2110.0   \n",
       "\n",
       "         taxvaluedollarcnt  yearbuilt  taxamount  fips    latitude  \\\n",
       "4                 296425.0       2005    6941.39  6037  34560018.0   \n",
       "6                 847770.0       2011   10244.94  6037  33996200.0   \n",
       "7                 646760.0       1926    7924.68  6037  34012977.0   \n",
       "11                  5328.0       1972      91.60  6037  34097714.0   \n",
       "14                  6920.0       1973     255.17  6037  33770827.0   \n",
       "...                    ...        ...        ...   ...         ...   \n",
       "2152857           422400.0       2015   13877.56  6037  34137792.0   \n",
       "2152859           960756.0       2015   13494.52  6059  33687201.0   \n",
       "2152860           536061.0       2014    6244.16  6059  33929748.0   \n",
       "2152862           424353.0       2015    5302.70  6059  33645700.0   \n",
       "2152863           554009.0       2014    6761.20  6037  33951985.0   \n",
       "\n",
       "           longitude  \n",
       "4       -118169806.0  \n",
       "6       -118438000.0  \n",
       "7       -118479243.0  \n",
       "11      -118248712.0  \n",
       "14      -118156513.0  \n",
       "...              ...  \n",
       "2152857 -117894004.0  \n",
       "2152859 -117759785.0  \n",
       "2152860 -117801513.0  \n",
       "2152862 -117598692.0  \n",
       "2152863 -118124097.0  \n",
       "\n",
       "[2140137 rows x 11 columns]"
      ]
     },
     "execution_count": 10,
     "metadata": {},
     "output_type": "execute_result"
    }
   ],
   "source": [
    "zillow = zillow[zillow.sqr_ft >= 70]\n",
    "zillow.shape[0] / acquire.get_zillow_data().shape[0]\n",
    "zillow"
   ]
  },
  {
   "cell_type": "markdown",
   "id": "9d91d9ad",
   "metadata": {},
   "source": [
    "Using domain knowledge from Andrew's mom, I'm going to drop all bedroom/bathroom counts of 0."
   ]
  },
  {
   "cell_type": "code",
   "execution_count": 11,
   "id": "2c4c81be",
   "metadata": {},
   "outputs": [
    {
     "data": {
      "text/html": [
       "<div>\n",
       "<style scoped>\n",
       "    .dataframe tbody tr th:only-of-type {\n",
       "        vertical-align: middle;\n",
       "    }\n",
       "\n",
       "    .dataframe tbody tr th {\n",
       "        vertical-align: top;\n",
       "    }\n",
       "\n",
       "    .dataframe thead th {\n",
       "        text-align: right;\n",
       "    }\n",
       "</style>\n",
       "<table border=\"1\" class=\"dataframe\">\n",
       "  <thead>\n",
       "    <tr style=\"text-align: right;\">\n",
       "      <th></th>\n",
       "      <th>Unnamed: 0</th>\n",
       "      <th>parcelid</th>\n",
       "      <th>bedroomcnt</th>\n",
       "      <th>bathroomcnt</th>\n",
       "      <th>sqr_ft</th>\n",
       "      <th>taxvaluedollarcnt</th>\n",
       "      <th>yearbuilt</th>\n",
       "      <th>taxamount</th>\n",
       "      <th>fips</th>\n",
       "      <th>latitude</th>\n",
       "      <th>longitude</th>\n",
       "    </tr>\n",
       "  </thead>\n",
       "  <tbody>\n",
       "    <tr>\n",
       "      <th>4</th>\n",
       "      <td>4</td>\n",
       "      <td>11324547</td>\n",
       "      <td>4.0</td>\n",
       "      <td>2.0</td>\n",
       "      <td>3633.0</td>\n",
       "      <td>296425.0</td>\n",
       "      <td>2005</td>\n",
       "      <td>6941.39</td>\n",
       "      <td>6037</td>\n",
       "      <td>34560018.0</td>\n",
       "      <td>-118169806.0</td>\n",
       "    </tr>\n",
       "    <tr>\n",
       "      <th>6</th>\n",
       "      <td>6</td>\n",
       "      <td>11544747</td>\n",
       "      <td>3.0</td>\n",
       "      <td>4.0</td>\n",
       "      <td>1620.0</td>\n",
       "      <td>847770.0</td>\n",
       "      <td>2011</td>\n",
       "      <td>10244.94</td>\n",
       "      <td>6037</td>\n",
       "      <td>33996200.0</td>\n",
       "      <td>-118438000.0</td>\n",
       "    </tr>\n",
       "    <tr>\n",
       "      <th>7</th>\n",
       "      <td>7</td>\n",
       "      <td>11585547</td>\n",
       "      <td>3.0</td>\n",
       "      <td>2.0</td>\n",
       "      <td>2077.0</td>\n",
       "      <td>646760.0</td>\n",
       "      <td>1926</td>\n",
       "      <td>7924.68</td>\n",
       "      <td>6037</td>\n",
       "      <td>34012977.0</td>\n",
       "      <td>-118479243.0</td>\n",
       "    </tr>\n",
       "    <tr>\n",
       "      <th>18</th>\n",
       "      <td>18</td>\n",
       "      <td>12716947</td>\n",
       "      <td>3.0</td>\n",
       "      <td>1.0</td>\n",
       "      <td>1244.0</td>\n",
       "      <td>169471.0</td>\n",
       "      <td>1950</td>\n",
       "      <td>2532.88</td>\n",
       "      <td>6037</td>\n",
       "      <td>33953559.0</td>\n",
       "      <td>-118083855.0</td>\n",
       "    </tr>\n",
       "    <tr>\n",
       "      <th>19</th>\n",
       "      <td>19</td>\n",
       "      <td>12757147</td>\n",
       "      <td>3.0</td>\n",
       "      <td>2.0</td>\n",
       "      <td>1300.0</td>\n",
       "      <td>233266.0</td>\n",
       "      <td>1950</td>\n",
       "      <td>3110.99</td>\n",
       "      <td>6037</td>\n",
       "      <td>33897134.0</td>\n",
       "      <td>-118102953.0</td>\n",
       "    </tr>\n",
       "    <tr>\n",
       "      <th>...</th>\n",
       "      <td>...</td>\n",
       "      <td>...</td>\n",
       "      <td>...</td>\n",
       "      <td>...</td>\n",
       "      <td>...</td>\n",
       "      <td>...</td>\n",
       "      <td>...</td>\n",
       "      <td>...</td>\n",
       "      <td>...</td>\n",
       "      <td>...</td>\n",
       "      <td>...</td>\n",
       "    </tr>\n",
       "    <tr>\n",
       "      <th>2152857</th>\n",
       "      <td>2152857</td>\n",
       "      <td>13027311</td>\n",
       "      <td>4.0</td>\n",
       "      <td>4.0</td>\n",
       "      <td>4375.0</td>\n",
       "      <td>422400.0</td>\n",
       "      <td>2015</td>\n",
       "      <td>13877.56</td>\n",
       "      <td>6037</td>\n",
       "      <td>34137792.0</td>\n",
       "      <td>-117894004.0</td>\n",
       "    </tr>\n",
       "    <tr>\n",
       "      <th>2152859</th>\n",
       "      <td>2152859</td>\n",
       "      <td>14356230</td>\n",
       "      <td>4.0</td>\n",
       "      <td>3.0</td>\n",
       "      <td>2262.0</td>\n",
       "      <td>960756.0</td>\n",
       "      <td>2015</td>\n",
       "      <td>13494.52</td>\n",
       "      <td>6059</td>\n",
       "      <td>33687201.0</td>\n",
       "      <td>-117759785.0</td>\n",
       "    </tr>\n",
       "    <tr>\n",
       "      <th>2152860</th>\n",
       "      <td>2152860</td>\n",
       "      <td>14157725</td>\n",
       "      <td>4.0</td>\n",
       "      <td>4.5</td>\n",
       "      <td>3127.0</td>\n",
       "      <td>536061.0</td>\n",
       "      <td>2014</td>\n",
       "      <td>6244.16</td>\n",
       "      <td>6059</td>\n",
       "      <td>33929748.0</td>\n",
       "      <td>-117801513.0</td>\n",
       "    </tr>\n",
       "    <tr>\n",
       "      <th>2152862</th>\n",
       "      <td>2152862</td>\n",
       "      <td>14367624</td>\n",
       "      <td>3.0</td>\n",
       "      <td>2.5</td>\n",
       "      <td>1974.0</td>\n",
       "      <td>424353.0</td>\n",
       "      <td>2015</td>\n",
       "      <td>5302.70</td>\n",
       "      <td>6059</td>\n",
       "      <td>33645700.0</td>\n",
       "      <td>-117598692.0</td>\n",
       "    </tr>\n",
       "    <tr>\n",
       "      <th>2152863</th>\n",
       "      <td>2152863</td>\n",
       "      <td>12385768</td>\n",
       "      <td>4.0</td>\n",
       "      <td>4.0</td>\n",
       "      <td>2110.0</td>\n",
       "      <td>554009.0</td>\n",
       "      <td>2014</td>\n",
       "      <td>6761.20</td>\n",
       "      <td>6037</td>\n",
       "      <td>33951985.0</td>\n",
       "      <td>-118124097.0</td>\n",
       "    </tr>\n",
       "  </tbody>\n",
       "</table>\n",
       "<p>2134889 rows × 11 columns</p>\n",
       "</div>"
      ],
      "text/plain": [
       "         Unnamed: 0  parcelid  bedroomcnt  bathroomcnt  sqr_ft  \\\n",
       "4                 4  11324547         4.0          2.0  3633.0   \n",
       "6                 6  11544747         3.0          4.0  1620.0   \n",
       "7                 7  11585547         3.0          2.0  2077.0   \n",
       "18               18  12716947         3.0          1.0  1244.0   \n",
       "19               19  12757147         3.0          2.0  1300.0   \n",
       "...             ...       ...         ...          ...     ...   \n",
       "2152857     2152857  13027311         4.0          4.0  4375.0   \n",
       "2152859     2152859  14356230         4.0          3.0  2262.0   \n",
       "2152860     2152860  14157725         4.0          4.5  3127.0   \n",
       "2152862     2152862  14367624         3.0          2.5  1974.0   \n",
       "2152863     2152863  12385768         4.0          4.0  2110.0   \n",
       "\n",
       "         taxvaluedollarcnt  yearbuilt  taxamount  fips    latitude  \\\n",
       "4                 296425.0       2005    6941.39  6037  34560018.0   \n",
       "6                 847770.0       2011   10244.94  6037  33996200.0   \n",
       "7                 646760.0       1926    7924.68  6037  34012977.0   \n",
       "18                169471.0       1950    2532.88  6037  33953559.0   \n",
       "19                233266.0       1950    3110.99  6037  33897134.0   \n",
       "...                    ...        ...        ...   ...         ...   \n",
       "2152857           422400.0       2015   13877.56  6037  34137792.0   \n",
       "2152859           960756.0       2015   13494.52  6059  33687201.0   \n",
       "2152860           536061.0       2014    6244.16  6059  33929748.0   \n",
       "2152862           424353.0       2015    5302.70  6059  33645700.0   \n",
       "2152863           554009.0       2014    6761.20  6037  33951985.0   \n",
       "\n",
       "           longitude  \n",
       "4       -118169806.0  \n",
       "6       -118438000.0  \n",
       "7       -118479243.0  \n",
       "18      -118083855.0  \n",
       "19      -118102953.0  \n",
       "...              ...  \n",
       "2152857 -117894004.0  \n",
       "2152859 -117759785.0  \n",
       "2152860 -117801513.0  \n",
       "2152862 -117598692.0  \n",
       "2152863 -118124097.0  \n",
       "\n",
       "[2134889 rows x 11 columns]"
      ]
     },
     "execution_count": 11,
     "metadata": {},
     "output_type": "execute_result"
    }
   ],
   "source": [
    "zillow = zillow[zillow.bedroomcnt != 0]\n",
    "zillow = zillow[zillow.bathroomcnt != 0.0]\n",
    "zillow.shape[0] / acquire.get_zillow_data().shape[0]\n",
    "zillow"
   ]
  },
  {
   "cell_type": "markdown",
   "id": "452bd77a",
   "metadata": {},
   "source": [
    "## Takeaway: \n",
    "\n",
    "> Still retain 99.1% of data after dropping null values and cleaning zero values for bathroomcnt/bedroomcnt."
   ]
  },
  {
   "cell_type": "code",
   "execution_count": 12,
   "id": "3ed2612b",
   "metadata": {},
   "outputs": [
    {
     "name": "stdout",
     "output_type": "stream",
     "text": [
      "(2134889, 10)\n",
      "(2096764, 10)\n"
     ]
    },
    {
     "data": {
      "text/html": [
       "<div>\n",
       "<style scoped>\n",
       "    .dataframe tbody tr th:only-of-type {\n",
       "        vertical-align: middle;\n",
       "    }\n",
       "\n",
       "    .dataframe tbody tr th {\n",
       "        vertical-align: top;\n",
       "    }\n",
       "\n",
       "    .dataframe thead th {\n",
       "        text-align: right;\n",
       "    }\n",
       "</style>\n",
       "<table border=\"1\" class=\"dataframe\">\n",
       "  <thead>\n",
       "    <tr style=\"text-align: right;\">\n",
       "      <th></th>\n",
       "      <th>parcelid</th>\n",
       "      <th>bedroomcnt</th>\n",
       "      <th>bathroomcnt</th>\n",
       "      <th>sqr_ft</th>\n",
       "      <th>taxvaluedollarcnt</th>\n",
       "      <th>yearbuilt</th>\n",
       "      <th>taxamount</th>\n",
       "      <th>county</th>\n",
       "      <th>latitude</th>\n",
       "      <th>longitude</th>\n",
       "    </tr>\n",
       "  </thead>\n",
       "  <tbody>\n",
       "    <tr>\n",
       "      <th>4</th>\n",
       "      <td>11324547</td>\n",
       "      <td>4.0</td>\n",
       "      <td>2.0</td>\n",
       "      <td>3633.0</td>\n",
       "      <td>296425.0</td>\n",
       "      <td>2005.0</td>\n",
       "      <td>6941.39</td>\n",
       "      <td>los_angeles</td>\n",
       "      <td>34560018.0</td>\n",
       "      <td>-118169806.0</td>\n",
       "    </tr>\n",
       "    <tr>\n",
       "      <th>6</th>\n",
       "      <td>11544747</td>\n",
       "      <td>3.0</td>\n",
       "      <td>4.0</td>\n",
       "      <td>1620.0</td>\n",
       "      <td>847770.0</td>\n",
       "      <td>2011.0</td>\n",
       "      <td>10244.94</td>\n",
       "      <td>los_angeles</td>\n",
       "      <td>33996200.0</td>\n",
       "      <td>-118438000.0</td>\n",
       "    </tr>\n",
       "    <tr>\n",
       "      <th>7</th>\n",
       "      <td>11585547</td>\n",
       "      <td>3.0</td>\n",
       "      <td>2.0</td>\n",
       "      <td>2077.0</td>\n",
       "      <td>646760.0</td>\n",
       "      <td>1926.0</td>\n",
       "      <td>7924.68</td>\n",
       "      <td>los_angeles</td>\n",
       "      <td>34012977.0</td>\n",
       "      <td>-118479243.0</td>\n",
       "    </tr>\n",
       "    <tr>\n",
       "      <th>18</th>\n",
       "      <td>12716947</td>\n",
       "      <td>3.0</td>\n",
       "      <td>1.0</td>\n",
       "      <td>1244.0</td>\n",
       "      <td>169471.0</td>\n",
       "      <td>1950.0</td>\n",
       "      <td>2532.88</td>\n",
       "      <td>los_angeles</td>\n",
       "      <td>33953559.0</td>\n",
       "      <td>-118083855.0</td>\n",
       "    </tr>\n",
       "    <tr>\n",
       "      <th>19</th>\n",
       "      <td>12757147</td>\n",
       "      <td>3.0</td>\n",
       "      <td>2.0</td>\n",
       "      <td>1300.0</td>\n",
       "      <td>233266.0</td>\n",
       "      <td>1950.0</td>\n",
       "      <td>3110.99</td>\n",
       "      <td>los_angeles</td>\n",
       "      <td>33897134.0</td>\n",
       "      <td>-118102953.0</td>\n",
       "    </tr>\n",
       "  </tbody>\n",
       "</table>\n",
       "</div>"
      ],
      "text/plain": [
       "    parcelid  bedroomcnt  bathroomcnt  sqr_ft  taxvaluedollarcnt  yearbuilt  \\\n",
       "4   11324547         4.0          2.0  3633.0           296425.0     2005.0   \n",
       "6   11544747         3.0          4.0  1620.0           847770.0     2011.0   \n",
       "7   11585547         3.0          2.0  2077.0           646760.0     1926.0   \n",
       "18  12716947         3.0          1.0  1244.0           169471.0     1950.0   \n",
       "19  12757147         3.0          2.0  1300.0           233266.0     1950.0   \n",
       "\n",
       "    taxamount       county    latitude    longitude  \n",
       "4     6941.39  los_angeles  34560018.0 -118169806.0  \n",
       "6    10244.94  los_angeles  33996200.0 -118438000.0  \n",
       "7     7924.68  los_angeles  34012977.0 -118479243.0  \n",
       "18    2532.88  los_angeles  33953559.0 -118083855.0  \n",
       "19    3110.99  los_angeles  33897134.0 -118102953.0  "
      ]
     },
     "execution_count": 12,
     "metadata": {},
     "output_type": "execute_result"
    }
   ],
   "source": [
    "zillow, cats, quants = wr.wrangle_zillow()\n",
    "zillow.head()"
   ]
  },
  {
   "cell_type": "code",
   "execution_count": 13,
   "id": "136ffff7",
   "metadata": {},
   "outputs": [
    {
     "name": "stdout",
     "output_type": "stream",
     "text": [
      "<class 'pandas.core.frame.DataFrame'>\n",
      "Int64Index: 2096744 entries, 4 to 2152863\n",
      "Data columns (total 10 columns):\n",
      " #   Column             Non-Null Count    Dtype  \n",
      "---  ------             --------------    -----  \n",
      " 0   parcelid           2096744 non-null  int64  \n",
      " 1   bedroomcnt         2096744 non-null  float64\n",
      " 2   bathroomcnt        2096744 non-null  float64\n",
      " 3   sqr_ft             2096744 non-null  float64\n",
      " 4   taxvaluedollarcnt  2096744 non-null  float64\n",
      " 5   yearbuilt          2096744 non-null  float64\n",
      " 6   taxamount          2096744 non-null  float64\n",
      " 7   county             2096744 non-null  object \n",
      " 8   latitude           2096744 non-null  float64\n",
      " 9   longitude          2096744 non-null  float64\n",
      "dtypes: float64(8), int64(1), object(1)\n",
      "memory usage: 176.0+ MB\n"
     ]
    }
   ],
   "source": [
    "zillow.info(show_counts=True)"
   ]
  },
  {
   "cell_type": "code",
   "execution_count": null,
   "id": "5b8dba29",
   "metadata": {},
   "outputs": [],
   "source": []
  },
  {
   "cell_type": "markdown",
   "id": "8012de30",
   "metadata": {},
   "source": [
    "## Final Dataset:"
   ]
  },
  {
   "cell_type": "code",
   "execution_count": 14,
   "id": "a9f30067",
   "metadata": {},
   "outputs": [
    {
     "name": "stdout",
     "output_type": "stream",
     "text": [
      "<class 'pandas.core.frame.DataFrame'>\n",
      "Int64Index: 2096744 entries, 4 to 2152863\n",
      "Data columns (total 10 columns):\n",
      " #   Column             Dtype  \n",
      "---  ------             -----  \n",
      " 0   parcelid           int64  \n",
      " 1   bedroomcnt         float64\n",
      " 2   bathroomcnt        float64\n",
      " 3   sqr_ft             float64\n",
      " 4   taxvaluedollarcnt  float64\n",
      " 5   yearbuilt          float64\n",
      " 6   taxamount          float64\n",
      " 7   county             object \n",
      " 8   latitude           float64\n",
      " 9   longitude          float64\n",
      "dtypes: float64(8), int64(1), object(1)\n",
      "memory usage: 176.0+ MB\n"
     ]
    }
   ],
   "source": [
    "zillow.head()\n",
    "zillow.info()"
   ]
  },
  {
   "cell_type": "markdown",
   "id": "ee3b8e72",
   "metadata": {},
   "source": [
    "# Proportion of data left after cleaning using following assumptions:\n",
    " > * minimum square feet >= 70 ft\n",
    " > * minimum square ft calculated also by bthroomcnt * 10 sqr ft \n",
    "added to bedroomcnt * 70 sqr ft\n",
    " > * all numeric values with z scores over 3.5 taken out"
   ]
  },
  {
   "cell_type": "code",
   "execution_count": 15,
   "id": "68ed5863",
   "metadata": {},
   "outputs": [
    {
     "data": {
      "text/plain": [
       "0.9739323988881787"
      ]
     },
     "execution_count": 15,
     "metadata": {},
     "output_type": "execute_result"
    }
   ],
   "source": [
    "zillow.shape[0] / acquire.get_zillow_data().shape[0]"
   ]
  },
  {
   "cell_type": "markdown",
   "id": "63b16f82",
   "metadata": {},
   "source": [
    "## Final:\n",
    "> 97.40% data left after cleaning data / purging extreme values."
   ]
  },
  {
   "cell_type": "markdown",
   "id": "f8c55e7d",
   "metadata": {},
   "source": [
    "## Visualizations of Univariate Distributions"
   ]
  },
  {
   "cell_type": "code",
   "execution_count": 16,
   "id": "2fd5e3e9",
   "metadata": {
    "scrolled": false
   },
   "outputs": [
    {
     "data": {
      "image/png": "[encoded data removed]",
      "text/plain": [
       "<Figure size 432x288 with 1 Axes>"
      ]
     },
     "metadata": {
      "needs_background": "light"
     },
     "output_type": "display_data"
    },
    {
     "data": {
      "image/png": "[encoded data removed]",
      "text/plain": [
       "<Figure size 432x288 with 1 Axes>"
      ]
     },
     "metadata": {
      "needs_background": "light"
     },
     "output_type": "display_data"
    },
    {
     "data": {
      "image/png": "[encoded data removed]",
      "text/plain": [
       "<Figure size 432x288 with 1 Axes>"
      ]
     },
     "metadata": {
      "needs_background": "light"
     },
     "output_type": "display_data"
    },
    {
     "data": {
      "image/png": "[encoded data removed]",
      "text/plain": [
       "<Figure size 432x288 with 1 Axes>"
      ]
     },
     "metadata": {
      "needs_background": "light"
     },
     "output_type": "display_data"
    },
    {
     "data": {
      "image/png": "[encoded data removed]",
      "text/plain": [
       "<Figure size 432x288 with 1 Axes>"
      ]
     },
     "metadata": {
      "needs_background": "light"
     },
     "output_type": "display_data"
    },
    {
     "data": {
      "image/png": "[encoded data removed]",
      "text/plain": [
       "<Figure size 432x288 with 1 Axes>"
      ]
     },
     "metadata": {
      "needs_background": "light"
     },
     "output_type": "display_data"
    },
    {
     "data": {
      "image/png": "[encoded data removed]",
      "text/plain": [
       "<Figure size 432x288 with 1 Axes>"
      ]
     },
     "metadata": {
      "needs_background": "light"
     },
     "output_type": "display_data"
    },
    {
     "data": {
      "image/png": "[encoded data removed]",
      "text/plain": [
       "<Figure size 432x288 with 1 Axes>"
      ]
     },
     "metadata": {
      "needs_background": "light"
     },
     "output_type": "display_data"
    },
    {
     "data": {
      "image/png": "[encoded data removed]",
      "text/plain": [
       "<Figure size 432x288 with 1 Axes>"
      ]
     },
     "metadata": {
      "needs_background": "light"
     },
     "output_type": "display_data"
    }
   ],
   "source": [
    "cols_to_visualize = zillow.drop(columns='parcelid').columns\n",
    "for col in cols_to_visualize:\n",
    "    exp.target_freq_hist_count(zillow, col)\n",
    "    plt.xlabel(col)\n",
    "    plt.show()\n",
    "    \n",
    "df = zillow.copy()"
   ]
  },
  {
   "cell_type": "code",
   "execution_count": 17,
   "id": "ebc3f2bd",
   "metadata": {
    "scrolled": true
   },
   "outputs": [],
   "source": [
    "def county_borders(df, resolution):\n",
    "    zillow = df.copy()\n",
    "    border_dict = {}\n",
    "    grids = []\n",
    "    prices = []\n",
    "    \n",
    "    zillow.latitude = zillow.latitude / 1000000\n",
    "    zillow.longitude = zillow.longitude / 1000000\n",
    "    \n",
    "    for county in zillow.county.unique():\n",
    "        border_dict[f'{county}_lat_min'] = zillow[zillow.county == county].latitude.min()\n",
    "        border_dict[f'{county}_lat_max'] = zillow[zillow.county == county].latitude.max()\n",
    "        border_dict[f'{county}_lon_min'] = zillow[zillow.county == county].longitude.min()\n",
    "        border_dict[f'{county}_lon_max'] = zillow[zillow.county == county].longitude.max()\n",
    "        \n",
    "        #print(border_dict)\n",
    "        \n",
    "        border_dict = lat_lon_steps(border_dict, zillow, resolution, county)\n",
    "        \n",
    "        border_dict[f'{county}_lat'] = np.arange(border_dict[f'{county}_lat_min'], \n",
    "                                                 border_dict[f'{county}_lat_max'],\n",
    "                                                 border_dict[f'{county}_lat_step'])\n",
    "        \n",
    "        \n",
    "        border_dict[f'{county}_lon'] = np.arange(border_dict[f'{county}_lon_min'],\n",
    "                                                 border_dict[f'{county}_lon_max'],\n",
    "                                                 border_dict[f'{county}_lon_step'])\n",
    "        \n",
    "    return border_dict\n",
    "    \n",
    "\n",
    "\n",
    "def lat_lon_steps(border_dict, zillow, resolution, county):\n",
    "    \n",
    "    border_dict[f'{county}_lat_step'] = (border_dict[f'{county}_lat_max'] - border_dict[f'{county}_lat_min']) / resolution\n",
    "    border_dict[f'{county}_lon_step'] = (border_dict[f'{county}_lon_max'] - border_dict[f'{county}_lon_min']) / resolution\n",
    "\n",
    "    return border_dict\n",
    "\n",
    "def create_grids(border_dict, resolution, df, sample=30_000):\n",
    "    grids = []\n",
    "    prices = []\n",
    "    lat_coords = []\n",
    "    lon_coords = []\n",
    "    sqr_ft = []\n",
    "    added = 0\n",
    "    \n",
    "    if sample:\n",
    "        zillow = df.sample(sample)\n",
    "        \n",
    "    else:\n",
    "        zillow = df\n",
    "    zillow.latitude = zillow.latitude/ 1000000\n",
    "    zillow.longitude = zillow.longitude / 1000000\n",
    "    \n",
    "    for i, county in enumerate(np.sort(zillow.county.unique())):\n",
    "        grids.append(np.zeros((resolution, resolution)))\n",
    "        prices.append(np.zeros((resolution, resolution)))\n",
    "        lat_coords.append(np.zeros((resolution,resolution)))\n",
    "        lon_coords.append(np.zeros((resolution,resolution)))\n",
    "        sqr_ft.append(np.zeros((resolution,resolution)))\n",
    "        \n",
    "        county_subset = zillow[zillow.county == county]\n",
    "        print(county)\n",
    "        \n",
    "        for a in range(len(county_subset)):\n",
    "            \n",
    "            for b1 in range(resolution):\n",
    "                if border_dict[f'{county}_lat'][b1] - (border_dict[f'{county}_lat_step']/2) <= county_subset.latitude.values[a] < border_dict[f'{county}_lat'][b1] + (border_dict[f'{county}_lat_step'] /2):\n",
    "                \n",
    "                    for b2 in range(resolution):\n",
    "                        if border_dict[f'{county}_lon'][b2] - (border_dict[f'{county}_lon_step']/2) <= county_subset.longitude.values[a] < border_dict[f'{county}_lon'][b2] + (border_dict[f'{county}_lon_step']/2):\n",
    "\n",
    "                            prices[i][b1, b2] += county_subset.taxvaluedollarcnt.values[a]\n",
    "                            grids[i][b1, b2] += 1\n",
    "                            sqr_ft[i][b1,b2] += county_subset.sqr_ft.values[a]\n",
    "                            lat_coords[i][b1, b2] = border_dict[f'{county}_lat'][b1]\n",
    "                            lon_coords[i][b1, b2] = border_dict[f'{county}_lon'][b2]\n",
    "                            break\n",
    "                    break\n",
    "                            \n",
    "            added += 1\n",
    "            if added % (sample/5) == 0:\n",
    "                print(added)\n",
    "        #print(grids[i])\n",
    "    \n",
    "    return grids, prices, lat_coords, lon_coords, sqr_ft, resolution\n",
    "\n",
    "\n",
    "def create_map_data(df, resolution, sample=30_000):\n",
    "    border_dict = county_borders(df, resolution)\n",
    "    grids, prices, lat_coords, lon_coords, sqr_ft, resolution = create_grids(border_dict, resolution, \n",
    "                                                                                 df, sample=sample)\n",
    "    \n",
    "    return prices, grids, lat_coords, lon_coords, sqr_ft, resolution\n",
    "  "
   ]
  },
  {
   "cell_type": "code",
   "execution_count": 18,
   "id": "2a3cb9eb",
   "metadata": {},
   "outputs": [],
   "source": [
    "def create_display_heatmap(prices, grid, lat_coords, lon_coords, sqr_ft, resolution, \n",
    "                           counties=['la'], option='average_price'):\n",
    "    \n",
    "    county_dfs = []\n",
    "    \n",
    "    api_key = env.gmaps_api()\n",
    "    gmaps.configure(api_key=api_key)\n",
    "    \n",
    "    for county in counties:\n",
    "        i = 0\n",
    "        if county == 'oc':\n",
    "            i = 1\n",
    "        elif county == 'ventura':\n",
    "            i = 2\n",
    "        \n",
    "        county_latitude_values = lat_coords[i].reshape((resolution**2,))\n",
    "        county_longitude_values = lon_coords[i].reshape((resolution**2,))\n",
    "        county_prices = prices[i].reshape((resolution**2,))\n",
    "        county_grid = grids[i].reshape((resolution**2,))\n",
    "        county_sqr_ft = sqr_ft[i].reshape((resolution**2,))\n",
    "\n",
    "        heatmap_prices = {'county_prices': county_prices, 'latitude': county_latitude_values, \n",
    "                          'longitude': county_longitude_values, 'num_houses': county_grid,\n",
    "                          'sqr_ft': county_sqr_ft}\n",
    "\n",
    "        county_df =pd.DataFrame(heatmap_prices)\n",
    "        county_df = county_df[county_df.num_houses > 0]\n",
    "\n",
    "        county_df['avg_prices'] = county_df.county_prices / county_df.num_houses\n",
    "        county_df['price_per_sqr_ft'] = county_df.county_prices / county_df.sqr_ft\n",
    "        print(county_df.price_per_sqr_ft.max())\n",
    "        \n",
    "        county_dfs.append(county_df)\n",
    "\n",
    "        locations = county_df[['latitude', 'longitude']]\n",
    "        \n",
    "        options = {'average_price': county_df['avg_prices'], 'price_per_sqr_ft': county_df['price_per_sqr_ft']}\n",
    "        weights = options[option]\n",
    "\n",
    "        fig = gmaps.figure()\n",
    "        heatmap_layer = gmaps.heatmap_layer(county_df[['latitude', 'longitude']], weights=weights, \n",
    "                                            max_intensity=county_df.price_per_sqr_ft.max(), point_radius=1.2)\n",
    "\n",
    "        fig.add_layer(gmaps.heatmap_layer(county_df[['latitude', 'longitude']], weights=weights))\n",
    "        display(fig)\n",
    "        \n",
    "    return county_dfs\n",
    "    "
   ]
  },
  {
   "cell_type": "code",
   "execution_count": 19,
   "id": "a28588c4",
   "metadata": {
    "scrolled": true
   },
   "outputs": [
    {
     "name": "stdout",
     "output_type": "stream",
     "text": [
      "los_angeles\n",
      "2000\n",
      "4000\n",
      "6000\n",
      "orange_county\n",
      "8000\n",
      "ventura\n",
      "10000\n"
     ]
    }
   ],
   "source": [
    "prices, grids, lat_coords, lon_coords, sqr_ft, resolution = exp.create_map_data(df, resolution=100,\n",
    "                                                                            sample=10_000)\n",
    "\n"
   ]
  },
  {
   "cell_type": "code",
   "execution_count": 20,
   "id": "e7ebce6c",
   "metadata": {},
   "outputs": [
    {
     "name": "stdout",
     "output_type": "stream",
     "text": [
      "1021.7903938167096\n"
     ]
    },
    {
     "data": {
      "application/vnd.jupyter.widget-view+json": {
       "model_id": "e316fbebbe354618b2d1be5cad440823",
       "version_major": 2,
       "version_minor": 0
      },
      "text/plain": [
       "Figure(layout=FigureLayout(height='420px'))"
      ]
     },
     "metadata": {},
     "output_type": "display_data"
    },
    {
     "name": "stdout",
     "output_type": "stream",
     "text": [
      "4724.879120879121\n"
     ]
    },
    {
     "data": {
      "application/vnd.jupyter.widget-view+json": {
       "model_id": "1ec3238331b74c3babb1a98da1e165c9",
       "version_major": 2,
       "version_minor": 0
      },
      "text/plain": [
       "Figure(layout=FigureLayout(height='420px'))"
      ]
     },
     "metadata": {},
     "output_type": "display_data"
    },
    {
     "name": "stdout",
     "output_type": "stream",
     "text": [
      "981.0916874777024\n"
     ]
    },
    {
     "data": {
      "application/vnd.jupyter.widget-view+json": {
       "model_id": "4040c7f7cdf4443bacc0b80f391aec67",
       "version_major": 2,
       "version_minor": 0
      },
      "text/plain": [
       "Figure(layout=FigureLayout(height='420px'))"
      ]
     },
     "metadata": {},
     "output_type": "display_data"
    }
   ],
   "source": [
    "county_dfs = exp.create_display_heatmap(prices, grids, lat_coords, lon_coords, sqr_ft, resolution,\n",
    "                       counties=['la', 'oc', 'ventura'], option='price_per_sqr_ft')"
   ]
  },
  {
   "cell_type": "code",
   "execution_count": 21,
   "id": "5ec24ca7",
   "metadata": {},
   "outputs": [
    {
     "data": {
      "image/png": "[encoded data removed]",
      "text/plain": [
       "<Figure size 432x288 with 1 Axes>"
      ]
     },
     "metadata": {
      "needs_background": "light"
     },
     "output_type": "display_data"
    },
    {
     "data": {
      "text/html": [
       "<div>\n",
       "<style scoped>\n",
       "    .dataframe tbody tr th:only-of-type {\n",
       "        vertical-align: middle;\n",
       "    }\n",
       "\n",
       "    .dataframe tbody tr th {\n",
       "        vertical-align: top;\n",
       "    }\n",
       "\n",
       "    .dataframe thead th {\n",
       "        text-align: right;\n",
       "    }\n",
       "</style>\n",
       "<table border=\"1\" class=\"dataframe\">\n",
       "  <thead>\n",
       "    <tr style=\"text-align: right;\">\n",
       "      <th></th>\n",
       "      <th>county_prices</th>\n",
       "      <th>latitude</th>\n",
       "      <th>longitude</th>\n",
       "      <th>num_houses</th>\n",
       "      <th>sqr_ft</th>\n",
       "      <th>avg_prices</th>\n",
       "      <th>price_per_sqr_ft</th>\n",
       "      <th>price_range</th>\n",
       "    </tr>\n",
       "  </thead>\n",
       "  <tbody>\n",
       "    <tr>\n",
       "      <th>47</th>\n",
       "      <td>600000.0</td>\n",
       "      <td>33.339912</td>\n",
       "      <td>-118.325642</td>\n",
       "      <td>1.0</td>\n",
       "      <td>1288.0</td>\n",
       "      <td>600000.000000</td>\n",
       "      <td>465.838509</td>\n",
       "      <td>expensive</td>\n",
       "    </tr>\n",
       "    <tr>\n",
       "      <th>2548</th>\n",
       "      <td>1228180.0</td>\n",
       "      <td>33.709846</td>\n",
       "      <td>-118.312935</td>\n",
       "      <td>2.0</td>\n",
       "      <td>4546.0</td>\n",
       "      <td>614090.000000</td>\n",
       "      <td>270.167180</td>\n",
       "      <td>pricey</td>\n",
       "    </tr>\n",
       "    <tr>\n",
       "      <th>2550</th>\n",
       "      <td>2921631.0</td>\n",
       "      <td>33.709846</td>\n",
       "      <td>-118.287520</td>\n",
       "      <td>3.0</td>\n",
       "      <td>6886.0</td>\n",
       "      <td>973877.000000</td>\n",
       "      <td>424.285652</td>\n",
       "      <td>pricey</td>\n",
       "    </tr>\n",
       "    <tr>\n",
       "      <th>2647</th>\n",
       "      <td>2190852.0</td>\n",
       "      <td>33.724644</td>\n",
       "      <td>-118.325642</td>\n",
       "      <td>3.0</td>\n",
       "      <td>6364.0</td>\n",
       "      <td>730284.000000</td>\n",
       "      <td>344.257071</td>\n",
       "      <td>pricey</td>\n",
       "    </tr>\n",
       "    <tr>\n",
       "      <th>2648</th>\n",
       "      <td>3707587.0</td>\n",
       "      <td>33.724644</td>\n",
       "      <td>-118.312935</td>\n",
       "      <td>6.0</td>\n",
       "      <td>11460.0</td>\n",
       "      <td>617931.166667</td>\n",
       "      <td>323.524171</td>\n",
       "      <td>pricey</td>\n",
       "    </tr>\n",
       "  </tbody>\n",
       "</table>\n",
       "</div>"
      ],
      "text/plain": [
       "      county_prices   latitude   longitude  num_houses   sqr_ft  \\\n",
       "47         600000.0  33.339912 -118.325642         1.0   1288.0   \n",
       "2548      1228180.0  33.709846 -118.312935         2.0   4546.0   \n",
       "2550      2921631.0  33.709846 -118.287520         3.0   6886.0   \n",
       "2647      2190852.0  33.724644 -118.325642         3.0   6364.0   \n",
       "2648      3707587.0  33.724644 -118.312935         6.0  11460.0   \n",
       "\n",
       "         avg_prices  price_per_sqr_ft price_range  \n",
       "47    600000.000000        465.838509   expensive  \n",
       "2548  614090.000000        270.167180      pricey  \n",
       "2550  973877.000000        424.285652      pricey  \n",
       "2647  730284.000000        344.257071      pricey  \n",
       "2648  617931.166667        323.524171      pricey  "
      ]
     },
     "execution_count": 21,
     "metadata": {},
     "output_type": "execute_result"
    }
   ],
   "source": [
    "limit = county_dfs[0].price_per_sqr_ft.max()\n",
    "intervals = np.arange(0, limit+ (limit/5), limit/6)\n",
    "\n",
    "fig = county_dfs[0].price_per_sqr_ft.hist(bins=5)\n",
    "fig.xticks = intervals\n",
    "plt.show()\n",
    "\n",
    "# 0 - 215         average\n",
    "# 216 - 440       pricey\n",
    "# 441 - limit     expensive\n",
    "\n",
    "def range_values(series):\n",
    "    if 0 < series <= 215:\n",
    "        return 'average'\n",
    "    elif 215 < series <= 440:\n",
    "        return 'pricey'\n",
    "    elif 440 < series:\n",
    "        return 'expensive'\n",
    "\n",
    "county_dfs[0]['price_range'] = ''\n",
    "county_dfs[0].price_range = county_dfs[0].price_per_sqr_ft.apply(range_values)\n",
    "county_dfs[0].head()\n"
   ]
  },
  {
   "cell_type": "code",
   "execution_count": 22,
   "id": "df36bc27",
   "metadata": {
    "scrolled": true
   },
   "outputs": [
    {
     "data": {
      "text/plain": [
       "<AxesSubplot:xlabel='latitude', ylabel='longitude'>"
      ]
     },
     "execution_count": 22,
     "metadata": {},
     "output_type": "execute_result"
    },
    {
     "data": {
      "image/png": "[encoded data removed]",
      "text/plain": [
       "<Figure size 432x288 with 1 Axes>"
      ]
     },
     "metadata": {
      "needs_background": "light"
     },
     "output_type": "display_data"
    }
   ],
   "source": [
    "sns.scatterplot(data=county_dfs[0], x=county_dfs[0].latitude, y=county_dfs[0].longitude, hue='price_range')"
   ]
  },
  {
   "cell_type": "code",
   "execution_count": 23,
   "id": "41799eae",
   "metadata": {},
   "outputs": [
    {
     "data": {
      "text/html": [
       "<div>\n",
       "<style scoped>\n",
       "    .dataframe tbody tr th:only-of-type {\n",
       "        vertical-align: middle;\n",
       "    }\n",
       "\n",
       "    .dataframe tbody tr th {\n",
       "        vertical-align: top;\n",
       "    }\n",
       "\n",
       "    .dataframe thead th {\n",
       "        text-align: right;\n",
       "    }\n",
       "</style>\n",
       "<table border=\"1\" class=\"dataframe\">\n",
       "  <thead>\n",
       "    <tr style=\"text-align: right;\">\n",
       "      <th></th>\n",
       "      <th>parcelid</th>\n",
       "      <th>bedroomcnt</th>\n",
       "      <th>bathroomcnt</th>\n",
       "      <th>sqr_ft</th>\n",
       "      <th>taxvaluedollarcnt</th>\n",
       "      <th>yearbuilt</th>\n",
       "      <th>taxamount</th>\n",
       "      <th>county</th>\n",
       "      <th>latitude</th>\n",
       "      <th>longitude</th>\n",
       "      <th>price_per_sqr_ft</th>\n",
       "      <th>price_range</th>\n",
       "    </tr>\n",
       "  </thead>\n",
       "  <tbody>\n",
       "    <tr>\n",
       "      <th>4</th>\n",
       "      <td>11324547</td>\n",
       "      <td>4.0</td>\n",
       "      <td>2.0</td>\n",
       "      <td>3633.0</td>\n",
       "      <td>296425.0</td>\n",
       "      <td>2005.0</td>\n",
       "      <td>6941.39</td>\n",
       "      <td>los_angeles</td>\n",
       "      <td>34560018.0</td>\n",
       "      <td>-118169806.0</td>\n",
       "      <td>81.592348</td>\n",
       "      <td>average</td>\n",
       "    </tr>\n",
       "    <tr>\n",
       "      <th>6</th>\n",
       "      <td>11544747</td>\n",
       "      <td>3.0</td>\n",
       "      <td>4.0</td>\n",
       "      <td>1620.0</td>\n",
       "      <td>847770.0</td>\n",
       "      <td>2011.0</td>\n",
       "      <td>10244.94</td>\n",
       "      <td>los_angeles</td>\n",
       "      <td>33996200.0</td>\n",
       "      <td>-118438000.0</td>\n",
       "      <td>523.314815</td>\n",
       "      <td>expensive</td>\n",
       "    </tr>\n",
       "    <tr>\n",
       "      <th>7</th>\n",
       "      <td>11585547</td>\n",
       "      <td>3.0</td>\n",
       "      <td>2.0</td>\n",
       "      <td>2077.0</td>\n",
       "      <td>646760.0</td>\n",
       "      <td>1926.0</td>\n",
       "      <td>7924.68</td>\n",
       "      <td>los_angeles</td>\n",
       "      <td>34012977.0</td>\n",
       "      <td>-118479243.0</td>\n",
       "      <td>311.391430</td>\n",
       "      <td>pricey</td>\n",
       "    </tr>\n",
       "    <tr>\n",
       "      <th>18</th>\n",
       "      <td>12716947</td>\n",
       "      <td>3.0</td>\n",
       "      <td>1.0</td>\n",
       "      <td>1244.0</td>\n",
       "      <td>169471.0</td>\n",
       "      <td>1950.0</td>\n",
       "      <td>2532.88</td>\n",
       "      <td>los_angeles</td>\n",
       "      <td>33953559.0</td>\n",
       "      <td>-118083855.0</td>\n",
       "      <td>136.230707</td>\n",
       "      <td>average</td>\n",
       "    </tr>\n",
       "    <tr>\n",
       "      <th>19</th>\n",
       "      <td>12757147</td>\n",
       "      <td>3.0</td>\n",
       "      <td>2.0</td>\n",
       "      <td>1300.0</td>\n",
       "      <td>233266.0</td>\n",
       "      <td>1950.0</td>\n",
       "      <td>3110.99</td>\n",
       "      <td>los_angeles</td>\n",
       "      <td>33897134.0</td>\n",
       "      <td>-118102953.0</td>\n",
       "      <td>179.435385</td>\n",
       "      <td>average</td>\n",
       "    </tr>\n",
       "    <tr>\n",
       "      <th>...</th>\n",
       "      <td>...</td>\n",
       "      <td>...</td>\n",
       "      <td>...</td>\n",
       "      <td>...</td>\n",
       "      <td>...</td>\n",
       "      <td>...</td>\n",
       "      <td>...</td>\n",
       "      <td>...</td>\n",
       "      <td>...</td>\n",
       "      <td>...</td>\n",
       "      <td>...</td>\n",
       "      <td>...</td>\n",
       "    </tr>\n",
       "    <tr>\n",
       "      <th>2152857</th>\n",
       "      <td>13027311</td>\n",
       "      <td>4.0</td>\n",
       "      <td>4.0</td>\n",
       "      <td>4375.0</td>\n",
       "      <td>422400.0</td>\n",
       "      <td>2015.0</td>\n",
       "      <td>13877.56</td>\n",
       "      <td>los_angeles</td>\n",
       "      <td>34137792.0</td>\n",
       "      <td>-117894004.0</td>\n",
       "      <td>96.548571</td>\n",
       "      <td>average</td>\n",
       "    </tr>\n",
       "    <tr>\n",
       "      <th>2152859</th>\n",
       "      <td>14356230</td>\n",
       "      <td>4.0</td>\n",
       "      <td>3.0</td>\n",
       "      <td>2262.0</td>\n",
       "      <td>960756.0</td>\n",
       "      <td>2015.0</td>\n",
       "      <td>13494.52</td>\n",
       "      <td>orange_county</td>\n",
       "      <td>33687201.0</td>\n",
       "      <td>-117759785.0</td>\n",
       "      <td>424.737401</td>\n",
       "      <td>pricey</td>\n",
       "    </tr>\n",
       "    <tr>\n",
       "      <th>2152860</th>\n",
       "      <td>14157725</td>\n",
       "      <td>4.0</td>\n",
       "      <td>4.5</td>\n",
       "      <td>3127.0</td>\n",
       "      <td>536061.0</td>\n",
       "      <td>2014.0</td>\n",
       "      <td>6244.16</td>\n",
       "      <td>orange_county</td>\n",
       "      <td>33929748.0</td>\n",
       "      <td>-117801513.0</td>\n",
       "      <td>171.429805</td>\n",
       "      <td>average</td>\n",
       "    </tr>\n",
       "    <tr>\n",
       "      <th>2152862</th>\n",
       "      <td>14367624</td>\n",
       "      <td>3.0</td>\n",
       "      <td>2.5</td>\n",
       "      <td>1974.0</td>\n",
       "      <td>424353.0</td>\n",
       "      <td>2015.0</td>\n",
       "      <td>5302.70</td>\n",
       "      <td>orange_county</td>\n",
       "      <td>33645700.0</td>\n",
       "      <td>-117598692.0</td>\n",
       "      <td>214.971125</td>\n",
       "      <td>average</td>\n",
       "    </tr>\n",
       "    <tr>\n",
       "      <th>2152863</th>\n",
       "      <td>12385768</td>\n",
       "      <td>4.0</td>\n",
       "      <td>4.0</td>\n",
       "      <td>2110.0</td>\n",
       "      <td>554009.0</td>\n",
       "      <td>2014.0</td>\n",
       "      <td>6761.20</td>\n",
       "      <td>los_angeles</td>\n",
       "      <td>33951985.0</td>\n",
       "      <td>-118124097.0</td>\n",
       "      <td>262.563507</td>\n",
       "      <td>pricey</td>\n",
       "    </tr>\n",
       "  </tbody>\n",
       "</table>\n",
       "<p>2096744 rows × 12 columns</p>\n",
       "</div>"
      ],
      "text/plain": [
       "         parcelid  bedroomcnt  bathroomcnt  sqr_ft  taxvaluedollarcnt  \\\n",
       "4        11324547         4.0          2.0  3633.0           296425.0   \n",
       "6        11544747         3.0          4.0  1620.0           847770.0   \n",
       "7        11585547         3.0          2.0  2077.0           646760.0   \n",
       "18       12716947         3.0          1.0  1244.0           169471.0   \n",
       "19       12757147         3.0          2.0  1300.0           233266.0   \n",
       "...           ...         ...          ...     ...                ...   \n",
       "2152857  13027311         4.0          4.0  4375.0           422400.0   \n",
       "2152859  14356230         4.0          3.0  2262.0           960756.0   \n",
       "2152860  14157725         4.0          4.5  3127.0           536061.0   \n",
       "2152862  14367624         3.0          2.5  1974.0           424353.0   \n",
       "2152863  12385768         4.0          4.0  2110.0           554009.0   \n",
       "\n",
       "         yearbuilt  taxamount         county    latitude    longitude  \\\n",
       "4           2005.0    6941.39    los_angeles  34560018.0 -118169806.0   \n",
       "6           2011.0   10244.94    los_angeles  33996200.0 -118438000.0   \n",
       "7           1926.0    7924.68    los_angeles  34012977.0 -118479243.0   \n",
       "18          1950.0    2532.88    los_angeles  33953559.0 -118083855.0   \n",
       "19          1950.0    3110.99    los_angeles  33897134.0 -118102953.0   \n",
       "...            ...        ...            ...         ...          ...   \n",
       "2152857     2015.0   13877.56    los_angeles  34137792.0 -117894004.0   \n",
       "2152859     2015.0   13494.52  orange_county  33687201.0 -117759785.0   \n",
       "2152860     2014.0    6244.16  orange_county  33929748.0 -117801513.0   \n",
       "2152862     2015.0    5302.70  orange_county  33645700.0 -117598692.0   \n",
       "2152863     2014.0    6761.20    los_angeles  33951985.0 -118124097.0   \n",
       "\n",
       "         price_per_sqr_ft price_range  \n",
       "4               81.592348     average  \n",
       "6              523.314815   expensive  \n",
       "7              311.391430      pricey  \n",
       "18             136.230707     average  \n",
       "19             179.435385     average  \n",
       "...                   ...         ...  \n",
       "2152857         96.548571     average  \n",
       "2152859        424.737401      pricey  \n",
       "2152860        171.429805     average  \n",
       "2152862        214.971125     average  \n",
       "2152863        262.563507      pricey  \n",
       "\n",
       "[2096744 rows x 12 columns]"
      ]
     },
     "execution_count": 23,
     "metadata": {},
     "output_type": "execute_result"
    }
   ],
   "source": [
    "#zillow = zillow.taxvaluedollarcnt.apply(range_values)\n",
    "zillow['price_per_sqr_ft'] = zillow.taxvaluedollarcnt/zillow.sqr_ft\n",
    "zillow['price_range'] = zillow.price_per_sqr_ft.apply(range_values)\n",
    "zillow"
   ]
  },
  {
   "cell_type": "code",
   "execution_count": 24,
   "id": "14716bca",
   "metadata": {
    "scrolled": false
   },
   "outputs": [
    {
     "data": {
      "image/png": "[encoded data removed]",
      "text/plain": [
       "<Figure size 432x288 with 1 Axes>"
      ]
     },
     "metadata": {
      "needs_background": "light"
     },
     "output_type": "display_data"
    },
    {
     "data": {
      "image/png": "[encoded data removed]",
      "text/plain": [
       "<Figure size 432x288 with 1 Axes>"
      ]
     },
     "metadata": {
      "needs_background": "light"
     },
     "output_type": "display_data"
    },
    {
     "data": {
      "image/png": "[encoded data removed]",
      "text/plain": [
       "<Figure size 432x288 with 1 Axes>"
      ]
     },
     "metadata": {
      "needs_background": "light"
     },
     "output_type": "display_data"
    },
    {
     "data": {
      "image/png": "[encoded data removed]",
      "text/plain": [
       "<Figure size 432x288 with 1 Axes>"
      ]
     },
     "metadata": {
      "needs_background": "light"
     },
     "output_type": "display_data"
    },
    {
     "data": {
      "image/png": "[encoded data removed]",
      "text/plain": [
       "<Figure size 432x288 with 1 Axes>"
      ]
     },
     "metadata": {
      "needs_background": "light"
     },
     "output_type": "display_data"
    }
   ],
   "source": [
    "continuous = ['bedroomcnt', 'bathroomcnt', 'sqr_ft', 'yearbuilt', 'taxvaluedollarcnt']\n",
    "\n",
    "exp.plot_categorical_and_continuous_vars(zillow, continuous, cats)\n"
   ]
  },
  {
   "cell_type": "code",
   "execution_count": null,
   "id": "2af02c45",
   "metadata": {},
   "outputs": [],
   "source": []
  }
 ],
 "metadata": {
  "kernelspec": {
   "display_name": "Python 3 (ipykernel)",
   "language": "python",
   "name": "python3"
  },
  "language_info": {
   "codemirror_mode": {
    "name": "ipython",
    "version": 3
   },
   "file_extension": ".py",
   "mimetype": "text/x-python",
   "name": "python",
   "nbconvert_exporter": "python",
   "pygments_lexer": "ipython3",
   "version": "3.9.7"
  }
 },
 "nbformat": 4,
 "nbformat_minor": 5
}
